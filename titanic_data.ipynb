{
 "cells": [
  {
   "cell_type": "code",
   "execution_count": 1,
   "metadata": {},
   "outputs": [],
   "source": [
    "from sklearn.model_selection import cross_val_score\n",
    "from sklearn import tree\n",
    "import pandas as pd\n",
    "import numpy as np\n",
    "import matplotlib.pyplot as plt\n",
    "import seaborn as sns\n",
    "%matplotlib inline\n",
    "import pydotplus\n",
    "import os\n",
    "os.environ[\"PATH\"] += os.pathsep + 'C:/Program Files (x86)/Graphviz2.38/bin/'"
   ]
  },
  {
   "cell_type": "code",
   "execution_count": 2,
   "metadata": {},
   "outputs": [],
   "source": [
    "from sklearn.model_selection import train_test_split"
   ]
  },
  {
   "cell_type": "code",
   "execution_count": 3,
   "metadata": {},
   "outputs": [],
   "source": [
    "from graphviz  import Source\n",
    "from IPython.display import SVG, display, HTML\n",
    "style = \"<style>svg{width: 70% !important; height: 70% !important;} </style>\" "
   ]
  },
  {
   "cell_type": "code",
   "execution_count": 4,
   "metadata": {},
   "outputs": [],
   "source": [
    "titanic_data = pd.read_csv('train.csv')"
   ]
  },
  {
   "cell_type": "code",
   "execution_count": 5,
   "metadata": {},
   "outputs": [
    {
     "data": {
      "text/html": [
       "<div>\n",
       "<style scoped>\n",
       "    .dataframe tbody tr th:only-of-type {\n",
       "        vertical-align: middle;\n",
       "    }\n",
       "\n",
       "    .dataframe tbody tr th {\n",
       "        vertical-align: top;\n",
       "    }\n",
       "\n",
       "    .dataframe thead th {\n",
       "        text-align: right;\n",
       "    }\n",
       "</style>\n",
       "<table border=\"1\" class=\"dataframe\">\n",
       "  <thead>\n",
       "    <tr style=\"text-align: right;\">\n",
       "      <th></th>\n",
       "      <th>PassengerId</th>\n",
       "      <th>Survived</th>\n",
       "      <th>Pclass</th>\n",
       "      <th>Name</th>\n",
       "      <th>Sex</th>\n",
       "      <th>Age</th>\n",
       "      <th>SibSp</th>\n",
       "      <th>Parch</th>\n",
       "      <th>Ticket</th>\n",
       "      <th>Fare</th>\n",
       "      <th>Cabin</th>\n",
       "      <th>Embarked</th>\n",
       "    </tr>\n",
       "  </thead>\n",
       "  <tbody>\n",
       "    <tr>\n",
       "      <th>0</th>\n",
       "      <td>1</td>\n",
       "      <td>0</td>\n",
       "      <td>3</td>\n",
       "      <td>Braund, Mr. Owen Harris</td>\n",
       "      <td>male</td>\n",
       "      <td>22.0</td>\n",
       "      <td>1</td>\n",
       "      <td>0</td>\n",
       "      <td>A/5 21171</td>\n",
       "      <td>7.2500</td>\n",
       "      <td>NaN</td>\n",
       "      <td>S</td>\n",
       "    </tr>\n",
       "    <tr>\n",
       "      <th>1</th>\n",
       "      <td>2</td>\n",
       "      <td>1</td>\n",
       "      <td>1</td>\n",
       "      <td>Cumings, Mrs. John Bradley (Florence Briggs Th...</td>\n",
       "      <td>female</td>\n",
       "      <td>38.0</td>\n",
       "      <td>1</td>\n",
       "      <td>0</td>\n",
       "      <td>PC 17599</td>\n",
       "      <td>71.2833</td>\n",
       "      <td>C85</td>\n",
       "      <td>C</td>\n",
       "    </tr>\n",
       "    <tr>\n",
       "      <th>2</th>\n",
       "      <td>3</td>\n",
       "      <td>1</td>\n",
       "      <td>3</td>\n",
       "      <td>Heikkinen, Miss. Laina</td>\n",
       "      <td>female</td>\n",
       "      <td>26.0</td>\n",
       "      <td>0</td>\n",
       "      <td>0</td>\n",
       "      <td>STON/O2. 3101282</td>\n",
       "      <td>7.9250</td>\n",
       "      <td>NaN</td>\n",
       "      <td>S</td>\n",
       "    </tr>\n",
       "    <tr>\n",
       "      <th>3</th>\n",
       "      <td>4</td>\n",
       "      <td>1</td>\n",
       "      <td>1</td>\n",
       "      <td>Futrelle, Mrs. Jacques Heath (Lily May Peel)</td>\n",
       "      <td>female</td>\n",
       "      <td>35.0</td>\n",
       "      <td>1</td>\n",
       "      <td>0</td>\n",
       "      <td>113803</td>\n",
       "      <td>53.1000</td>\n",
       "      <td>C123</td>\n",
       "      <td>S</td>\n",
       "    </tr>\n",
       "    <tr>\n",
       "      <th>4</th>\n",
       "      <td>5</td>\n",
       "      <td>0</td>\n",
       "      <td>3</td>\n",
       "      <td>Allen, Mr. William Henry</td>\n",
       "      <td>male</td>\n",
       "      <td>35.0</td>\n",
       "      <td>0</td>\n",
       "      <td>0</td>\n",
       "      <td>373450</td>\n",
       "      <td>8.0500</td>\n",
       "      <td>NaN</td>\n",
       "      <td>S</td>\n",
       "    </tr>\n",
       "  </tbody>\n",
       "</table>\n",
       "</div>"
      ],
      "text/plain": [
       "   PassengerId  Survived  Pclass  \\\n",
       "0            1         0       3   \n",
       "1            2         1       1   \n",
       "2            3         1       3   \n",
       "3            4         1       1   \n",
       "4            5         0       3   \n",
       "\n",
       "                                                Name     Sex   Age  SibSp  \\\n",
       "0                            Braund, Mr. Owen Harris    male  22.0      1   \n",
       "1  Cumings, Mrs. John Bradley (Florence Briggs Th...  female  38.0      1   \n",
       "2                             Heikkinen, Miss. Laina  female  26.0      0   \n",
       "3       Futrelle, Mrs. Jacques Heath (Lily May Peel)  female  35.0      1   \n",
       "4                           Allen, Mr. William Henry    male  35.0      0   \n",
       "\n",
       "   Parch            Ticket     Fare Cabin Embarked  \n",
       "0      0         A/5 21171   7.2500   NaN        S  \n",
       "1      0          PC 17599  71.2833   C85        C  \n",
       "2      0  STON/O2. 3101282   7.9250   NaN        S  \n",
       "3      0            113803  53.1000  C123        S  \n",
       "4      0            373450   8.0500   NaN        S  "
      ]
     },
     "execution_count": 5,
     "metadata": {},
     "output_type": "execute_result"
    }
   ],
   "source": [
    "titanic_data.head()"
   ]
  },
  {
   "cell_type": "code",
   "execution_count": 6,
   "metadata": {},
   "outputs": [
    {
     "data": {
      "text/plain": [
       "PassengerId      0\n",
       "Survived         0\n",
       "Pclass           0\n",
       "Name             0\n",
       "Sex              0\n",
       "Age            177\n",
       "SibSp            0\n",
       "Parch            0\n",
       "Ticket           0\n",
       "Fare             0\n",
       "Cabin          687\n",
       "Embarked         2\n",
       "dtype: int64"
      ]
     },
     "execution_count": 6,
     "metadata": {},
     "output_type": "execute_result"
    }
   ],
   "source": [
    "titanic_data.isnull().sum()"
   ]
  },
  {
   "cell_type": "code",
   "execution_count": 7,
   "metadata": {},
   "outputs": [],
   "source": [
    "X = titanic_data.drop(['PassengerId', 'Survived', 'Name', 'Ticket', 'Cabin'], axis=1)"
   ]
  },
  {
   "cell_type": "code",
   "execution_count": 8,
   "metadata": {},
   "outputs": [],
   "source": [
    "y = titanic_data.Survived"
   ]
  },
  {
   "cell_type": "code",
   "execution_count": 9,
   "metadata": {},
   "outputs": [],
   "source": [
    "X = pd.get_dummies(X)"
   ]
  },
  {
   "cell_type": "code",
   "execution_count": 10,
   "metadata": {},
   "outputs": [
    {
     "data": {
      "text/html": [
       "<div>\n",
       "<style scoped>\n",
       "    .dataframe tbody tr th:only-of-type {\n",
       "        vertical-align: middle;\n",
       "    }\n",
       "\n",
       "    .dataframe tbody tr th {\n",
       "        vertical-align: top;\n",
       "    }\n",
       "\n",
       "    .dataframe thead th {\n",
       "        text-align: right;\n",
       "    }\n",
       "</style>\n",
       "<table border=\"1\" class=\"dataframe\">\n",
       "  <thead>\n",
       "    <tr style=\"text-align: right;\">\n",
       "      <th></th>\n",
       "      <th>Pclass</th>\n",
       "      <th>Age</th>\n",
       "      <th>SibSp</th>\n",
       "      <th>Parch</th>\n",
       "      <th>Fare</th>\n",
       "      <th>Sex_female</th>\n",
       "      <th>Sex_male</th>\n",
       "      <th>Embarked_C</th>\n",
       "      <th>Embarked_Q</th>\n",
       "      <th>Embarked_S</th>\n",
       "    </tr>\n",
       "  </thead>\n",
       "  <tbody>\n",
       "    <tr>\n",
       "      <th>0</th>\n",
       "      <td>3</td>\n",
       "      <td>22.0</td>\n",
       "      <td>1</td>\n",
       "      <td>0</td>\n",
       "      <td>7.2500</td>\n",
       "      <td>0</td>\n",
       "      <td>1</td>\n",
       "      <td>0</td>\n",
       "      <td>0</td>\n",
       "      <td>1</td>\n",
       "    </tr>\n",
       "    <tr>\n",
       "      <th>1</th>\n",
       "      <td>1</td>\n",
       "      <td>38.0</td>\n",
       "      <td>1</td>\n",
       "      <td>0</td>\n",
       "      <td>71.2833</td>\n",
       "      <td>1</td>\n",
       "      <td>0</td>\n",
       "      <td>1</td>\n",
       "      <td>0</td>\n",
       "      <td>0</td>\n",
       "    </tr>\n",
       "    <tr>\n",
       "      <th>2</th>\n",
       "      <td>3</td>\n",
       "      <td>26.0</td>\n",
       "      <td>0</td>\n",
       "      <td>0</td>\n",
       "      <td>7.9250</td>\n",
       "      <td>1</td>\n",
       "      <td>0</td>\n",
       "      <td>0</td>\n",
       "      <td>0</td>\n",
       "      <td>1</td>\n",
       "    </tr>\n",
       "    <tr>\n",
       "      <th>3</th>\n",
       "      <td>1</td>\n",
       "      <td>35.0</td>\n",
       "      <td>1</td>\n",
       "      <td>0</td>\n",
       "      <td>53.1000</td>\n",
       "      <td>1</td>\n",
       "      <td>0</td>\n",
       "      <td>0</td>\n",
       "      <td>0</td>\n",
       "      <td>1</td>\n",
       "    </tr>\n",
       "    <tr>\n",
       "      <th>4</th>\n",
       "      <td>3</td>\n",
       "      <td>35.0</td>\n",
       "      <td>0</td>\n",
       "      <td>0</td>\n",
       "      <td>8.0500</td>\n",
       "      <td>0</td>\n",
       "      <td>1</td>\n",
       "      <td>0</td>\n",
       "      <td>0</td>\n",
       "      <td>1</td>\n",
       "    </tr>\n",
       "  </tbody>\n",
       "</table>\n",
       "</div>"
      ],
      "text/plain": [
       "   Pclass   Age  SibSp  Parch     Fare  Sex_female  Sex_male  Embarked_C  \\\n",
       "0       3  22.0      1      0   7.2500           0         1           0   \n",
       "1       1  38.0      1      0  71.2833           1         0           1   \n",
       "2       3  26.0      0      0   7.9250           1         0           0   \n",
       "3       1  35.0      1      0  53.1000           1         0           0   \n",
       "4       3  35.0      0      0   8.0500           0         1           0   \n",
       "\n",
       "   Embarked_Q  Embarked_S  \n",
       "0           0           1  \n",
       "1           0           0  \n",
       "2           0           1  \n",
       "3           0           1  \n",
       "4           0           1  "
      ]
     },
     "execution_count": 10,
     "metadata": {},
     "output_type": "execute_result"
    }
   ],
   "source": [
    "X.head()"
   ]
  },
  {
   "cell_type": "code",
   "execution_count": 11,
   "metadata": {},
   "outputs": [
    {
     "data": {
      "text/plain": [
       "28.0"
      ]
     },
     "execution_count": 11,
     "metadata": {},
     "output_type": "execute_result"
    }
   ],
   "source": [
    "X.Age.median()"
   ]
  },
  {
   "cell_type": "code",
   "execution_count": 12,
   "metadata": {},
   "outputs": [],
   "source": [
    "X = X.fillna({'Age': X.Age.median()})"
   ]
  },
  {
   "cell_type": "code",
   "execution_count": 13,
   "metadata": {},
   "outputs": [],
   "source": [
    "clf = tree.DecisionTreeClassifier(criterion='entropy', max_depth=4)"
   ]
  },
  {
   "cell_type": "code",
   "execution_count": 14,
   "metadata": {},
   "outputs": [
    {
     "data": {
      "text/plain": [
       "DecisionTreeClassifier(criterion='entropy', max_depth=4)"
      ]
     },
     "execution_count": 14,
     "metadata": {},
     "output_type": "execute_result"
    }
   ],
   "source": [
    "clf.fit(X, y)"
   ]
  },
  {
   "cell_type": "code",
   "execution_count": 15,
   "metadata": {},
   "outputs": [
    {
     "data": {
      "text/html": [
       "<div>\n",
       "<style scoped>\n",
       "    .dataframe tbody tr th:only-of-type {\n",
       "        vertical-align: middle;\n",
       "    }\n",
       "\n",
       "    .dataframe tbody tr th {\n",
       "        vertical-align: top;\n",
       "    }\n",
       "\n",
       "    .dataframe thead th {\n",
       "        text-align: right;\n",
       "    }\n",
       "</style>\n",
       "<table border=\"1\" class=\"dataframe\">\n",
       "  <thead>\n",
       "    <tr style=\"text-align: right;\">\n",
       "      <th></th>\n",
       "      <th>Pclass</th>\n",
       "      <th>Age</th>\n",
       "      <th>SibSp</th>\n",
       "      <th>Parch</th>\n",
       "      <th>Fare</th>\n",
       "      <th>Sex_female</th>\n",
       "      <th>Sex_male</th>\n",
       "      <th>Embarked_C</th>\n",
       "      <th>Embarked_Q</th>\n",
       "      <th>Embarked_S</th>\n",
       "    </tr>\n",
       "  </thead>\n",
       "  <tbody>\n",
       "    <tr>\n",
       "      <th>0</th>\n",
       "      <td>3</td>\n",
       "      <td>22.0</td>\n",
       "      <td>1</td>\n",
       "      <td>0</td>\n",
       "      <td>7.2500</td>\n",
       "      <td>0</td>\n",
       "      <td>1</td>\n",
       "      <td>0</td>\n",
       "      <td>0</td>\n",
       "      <td>1</td>\n",
       "    </tr>\n",
       "    <tr>\n",
       "      <th>1</th>\n",
       "      <td>1</td>\n",
       "      <td>38.0</td>\n",
       "      <td>1</td>\n",
       "      <td>0</td>\n",
       "      <td>71.2833</td>\n",
       "      <td>1</td>\n",
       "      <td>0</td>\n",
       "      <td>1</td>\n",
       "      <td>0</td>\n",
       "      <td>0</td>\n",
       "    </tr>\n",
       "    <tr>\n",
       "      <th>2</th>\n",
       "      <td>3</td>\n",
       "      <td>26.0</td>\n",
       "      <td>0</td>\n",
       "      <td>0</td>\n",
       "      <td>7.9250</td>\n",
       "      <td>1</td>\n",
       "      <td>0</td>\n",
       "      <td>0</td>\n",
       "      <td>0</td>\n",
       "      <td>1</td>\n",
       "    </tr>\n",
       "    <tr>\n",
       "      <th>3</th>\n",
       "      <td>1</td>\n",
       "      <td>35.0</td>\n",
       "      <td>1</td>\n",
       "      <td>0</td>\n",
       "      <td>53.1000</td>\n",
       "      <td>1</td>\n",
       "      <td>0</td>\n",
       "      <td>0</td>\n",
       "      <td>0</td>\n",
       "      <td>1</td>\n",
       "    </tr>\n",
       "    <tr>\n",
       "      <th>4</th>\n",
       "      <td>3</td>\n",
       "      <td>35.0</td>\n",
       "      <td>0</td>\n",
       "      <td>0</td>\n",
       "      <td>8.0500</td>\n",
       "      <td>0</td>\n",
       "      <td>1</td>\n",
       "      <td>0</td>\n",
       "      <td>0</td>\n",
       "      <td>1</td>\n",
       "    </tr>\n",
       "  </tbody>\n",
       "</table>\n",
       "</div>"
      ],
      "text/plain": [
       "   Pclass   Age  SibSp  Parch     Fare  Sex_female  Sex_male  Embarked_C  \\\n",
       "0       3  22.0      1      0   7.2500           0         1           0   \n",
       "1       1  38.0      1      0  71.2833           1         0           1   \n",
       "2       3  26.0      0      0   7.9250           1         0           0   \n",
       "3       1  35.0      1      0  53.1000           1         0           0   \n",
       "4       3  35.0      0      0   8.0500           0         1           0   \n",
       "\n",
       "   Embarked_Q  Embarked_S  \n",
       "0           0           1  \n",
       "1           0           0  \n",
       "2           0           1  \n",
       "3           0           1  \n",
       "4           0           1  "
      ]
     },
     "execution_count": 15,
     "metadata": {},
     "output_type": "execute_result"
    }
   ],
   "source": [
    "X.head()"
   ]
  },
  {
   "cell_type": "code",
   "execution_count": 16,
   "metadata": {
    "scrolled": false
   },
   "outputs": [
    {
     "data": {
      "image/svg+xml": [
       "<svg xmlns=\"http://www.w3.org/2000/svg\" xmlns:xlink=\"http://www.w3.org/1999/xlink\" width=\"1954pt\" height=\"552pt\" viewBox=\"0.00 0.00 1954.00 552.00\">\n",
       "<g id=\"graph0\" class=\"graph\" transform=\"scale(1 1) rotate(0) translate(4 548)\">\n",
       "<title>Tree</title>\n",
       "<polygon fill=\"white\" stroke=\"none\" points=\"-4,4 -4,-548 1950,-548 1950,4 -4,4\"/>\n",
       "<!-- 0 -->\n",
       "<g id=\"node1\" class=\"node\"><title>0</title>\n",
       "<polygon fill=\"#f5cfb4\" stroke=\"black\" points=\"1030,-544 908,-544 908,-461 1030,-461 1030,-544\"/>\n",
       "<text text-anchor=\"middle\" x=\"969\" y=\"-528.8\" font-family=\"Times New Roman,serif\" font-size=\"14.00\">Sex_female &lt;= 0.5</text>\n",
       "<text text-anchor=\"middle\" x=\"969\" y=\"-513.8\" font-family=\"Times New Roman,serif\" font-size=\"14.00\">entropy = 0.961</text>\n",
       "<text text-anchor=\"middle\" x=\"969\" y=\"-498.8\" font-family=\"Times New Roman,serif\" font-size=\"14.00\">samples = 891</text>\n",
       "<text text-anchor=\"middle\" x=\"969\" y=\"-483.8\" font-family=\"Times New Roman,serif\" font-size=\"14.00\">value = [549, 342]</text>\n",
       "<text text-anchor=\"middle\" x=\"969\" y=\"-468.8\" font-family=\"Times New Roman,serif\" font-size=\"14.00\">class = Died</text>\n",
       "</g>\n",
       "<!-- 1 -->\n",
       "<g id=\"node2\" class=\"node\"><title>1</title>\n",
       "<polygon fill=\"#eb9e67\" stroke=\"black\" points=\"794,-425 676,-425 676,-342 794,-342 794,-425\"/>\n",
       "<text text-anchor=\"middle\" x=\"735\" y=\"-409.8\" font-family=\"Times New Roman,serif\" font-size=\"14.00\">Fare &lt;= 26.269</text>\n",
       "<text text-anchor=\"middle\" x=\"735\" y=\"-394.8\" font-family=\"Times New Roman,serif\" font-size=\"14.00\">entropy = 0.699</text>\n",
       "<text text-anchor=\"middle\" x=\"735\" y=\"-379.8\" font-family=\"Times New Roman,serif\" font-size=\"14.00\">samples = 577</text>\n",
       "<text text-anchor=\"middle\" x=\"735\" y=\"-364.8\" font-family=\"Times New Roman,serif\" font-size=\"14.00\">value = [468, 109]</text>\n",
       "<text text-anchor=\"middle\" x=\"735\" y=\"-349.8\" font-family=\"Times New Roman,serif\" font-size=\"14.00\">class = Died</text>\n",
       "</g>\n",
       "<!-- 0&#45;&gt;1 -->\n",
       "<g id=\"edge1\" class=\"edge\"><title>0-&gt;1</title>\n",
       "<path fill=\"none\" stroke=\"black\" d=\"M907.825,-470.912C875.767,-454.883 836.405,-435.202 803.348,-418.674\"/>\n",
       "<polygon fill=\"black\" stroke=\"black\" points=\"804.712,-415.443 794.202,-414.101 801.581,-421.704 804.712,-415.443\"/>\n",
       "<text text-anchor=\"middle\" x=\"802.108\" y=\"-434.118\" font-family=\"Times New Roman,serif\" font-size=\"14.00\">True</text>\n",
       "</g>\n",
       "<!-- 16 -->\n",
       "<g id=\"node17\" class=\"node\"><title>16</title>\n",
       "<polygon fill=\"#7ebfee\" stroke=\"black\" points=\"1268.5,-425 1157.5,-425 1157.5,-342 1268.5,-342 1268.5,-425\"/>\n",
       "<text text-anchor=\"middle\" x=\"1213\" y=\"-409.8\" font-family=\"Times New Roman,serif\" font-size=\"14.00\">Pclass &lt;= 2.5</text>\n",
       "<text text-anchor=\"middle\" x=\"1213\" y=\"-394.8\" font-family=\"Times New Roman,serif\" font-size=\"14.00\">entropy = 0.824</text>\n",
       "<text text-anchor=\"middle\" x=\"1213\" y=\"-379.8\" font-family=\"Times New Roman,serif\" font-size=\"14.00\">samples = 314</text>\n",
       "<text text-anchor=\"middle\" x=\"1213\" y=\"-364.8\" font-family=\"Times New Roman,serif\" font-size=\"14.00\">value = [81, 233]</text>\n",
       "<text text-anchor=\"middle\" x=\"1213\" y=\"-349.8\" font-family=\"Times New Roman,serif\" font-size=\"14.00\">class = Survived</text>\n",
       "</g>\n",
       "<!-- 0&#45;&gt;16 -->\n",
       "<g id=\"edge16\" class=\"edge\"><title>0-&gt;16</title>\n",
       "<path fill=\"none\" stroke=\"black\" d=\"M1030.26,-472.127C1066.17,-454.904 1111.52,-433.159 1148.06,-415.639\"/>\n",
       "<polygon fill=\"black\" stroke=\"black\" points=\"1149.64,-418.761 1157.15,-411.281 1146.62,-412.449 1149.64,-418.761\"/>\n",
       "<text text-anchor=\"middle\" x=\"1148.85\" y=\"-431.165\" font-family=\"Times New Roman,serif\" font-size=\"14.00\">False</text>\n",
       "</g>\n",
       "<!-- 2 -->\n",
       "<g id=\"node3\" class=\"node\"><title>2</title>\n",
       "<polygon fill=\"#e99457\" stroke=\"black\" points=\"422.5,-306 311.5,-306 311.5,-223 422.5,-223 422.5,-306\"/>\n",
       "<text text-anchor=\"middle\" x=\"367\" y=\"-290.8\" font-family=\"Times New Roman,serif\" font-size=\"14.00\">Age &lt;= 13.5</text>\n",
       "<text text-anchor=\"middle\" x=\"367\" y=\"-275.8\" font-family=\"Times New Roman,serif\" font-size=\"14.00\">entropy = 0.558</text>\n",
       "<text text-anchor=\"middle\" x=\"367\" y=\"-260.8\" font-family=\"Times New Roman,serif\" font-size=\"14.00\">samples = 415</text>\n",
       "<text text-anchor=\"middle\" x=\"367\" y=\"-245.8\" font-family=\"Times New Roman,serif\" font-size=\"14.00\">value = [361, 54]</text>\n",
       "<text text-anchor=\"middle\" x=\"367\" y=\"-230.8\" font-family=\"Times New Roman,serif\" font-size=\"14.00\">class = Died</text>\n",
       "</g>\n",
       "<!-- 1&#45;&gt;2 -->\n",
       "<g id=\"edge2\" class=\"edge\"><title>1-&gt;2</title>\n",
       "<path fill=\"none\" stroke=\"black\" d=\"M675.874,-363.702C609.356,-342.553 501.61,-308.297 432.562,-286.344\"/>\n",
       "<polygon fill=\"black\" stroke=\"black\" points=\"433.255,-282.892 422.665,-283.198 431.134,-289.563 433.255,-282.892\"/>\n",
       "</g>\n",
       "<!-- 9 -->\n",
       "<g id=\"node10\" class=\"node\"><title>9</title>\n",
       "<polygon fill=\"#f2c29f\" stroke=\"black\" points=\"790.5,-306 679.5,-306 679.5,-223 790.5,-223 790.5,-306\"/>\n",
       "<text text-anchor=\"middle\" x=\"735\" y=\"-290.8\" font-family=\"Times New Roman,serif\" font-size=\"14.00\">SibSp &lt;= 2.5</text>\n",
       "<text text-anchor=\"middle\" x=\"735\" y=\"-275.8\" font-family=\"Times New Roman,serif\" font-size=\"14.00\">entropy = 0.924</text>\n",
       "<text text-anchor=\"middle\" x=\"735\" y=\"-260.8\" font-family=\"Times New Roman,serif\" font-size=\"14.00\">samples = 162</text>\n",
       "<text text-anchor=\"middle\" x=\"735\" y=\"-245.8\" font-family=\"Times New Roman,serif\" font-size=\"14.00\">value = [107, 55]</text>\n",
       "<text text-anchor=\"middle\" x=\"735\" y=\"-230.8\" font-family=\"Times New Roman,serif\" font-size=\"14.00\">class = Died</text>\n",
       "</g>\n",
       "<!-- 1&#45;&gt;9 -->\n",
       "<g id=\"edge9\" class=\"edge\"><title>1-&gt;9</title>\n",
       "<path fill=\"none\" stroke=\"black\" d=\"M735,-341.907C735,-333.649 735,-324.864 735,-316.302\"/>\n",
       "<polygon fill=\"black\" stroke=\"black\" points=\"738.5,-316.021 735,-306.021 731.5,-316.021 738.5,-316.021\"/>\n",
       "</g>\n",
       "<!-- 3 -->\n",
       "<g id=\"node4\" class=\"node\"><title>3</title>\n",
       "<polygon fill=\"#57ace9\" stroke=\"black\" points=\"229,-187 119,-187 119,-104 229,-104 229,-187\"/>\n",
       "<text text-anchor=\"middle\" x=\"174\" y=\"-171.8\" font-family=\"Times New Roman,serif\" font-size=\"14.00\">SibSp &lt;= 2.0</text>\n",
       "<text text-anchor=\"middle\" x=\"174\" y=\"-156.8\" font-family=\"Times New Roman,serif\" font-size=\"14.00\">entropy = 0.567</text>\n",
       "<text text-anchor=\"middle\" x=\"174\" y=\"-141.8\" font-family=\"Times New Roman,serif\" font-size=\"14.00\">samples = 15</text>\n",
       "<text text-anchor=\"middle\" x=\"174\" y=\"-126.8\" font-family=\"Times New Roman,serif\" font-size=\"14.00\">value = [2, 13]</text>\n",
       "<text text-anchor=\"middle\" x=\"174\" y=\"-111.8\" font-family=\"Times New Roman,serif\" font-size=\"14.00\">class = Survived</text>\n",
       "</g>\n",
       "<!-- 2&#45;&gt;3 -->\n",
       "<g id=\"edge3\" class=\"edge\"><title>2-&gt;3</title>\n",
       "<path fill=\"none\" stroke=\"black\" d=\"M311.435,-229.816C288.426,-215.867 261.604,-199.607 237.796,-185.174\"/>\n",
       "<polygon fill=\"black\" stroke=\"black\" points=\"239.539,-182.138 229.173,-179.947 235.91,-188.124 239.539,-182.138\"/>\n",
       "</g>\n",
       "<!-- 6 -->\n",
       "<g id=\"node7\" class=\"node\"><title>6</title>\n",
       "<polygon fill=\"#e88f50\" stroke=\"black\" points=\"433,-187 301,-187 301,-104 433,-104 433,-187\"/>\n",
       "<text text-anchor=\"middle\" x=\"367\" y=\"-171.8\" font-family=\"Times New Roman,serif\" font-size=\"14.00\">Embarked_C &lt;= 0.5</text>\n",
       "<text text-anchor=\"middle\" x=\"367\" y=\"-156.8\" font-family=\"Times New Roman,serif\" font-size=\"14.00\">entropy = 0.477</text>\n",
       "<text text-anchor=\"middle\" x=\"367\" y=\"-141.8\" font-family=\"Times New Roman,serif\" font-size=\"14.00\">samples = 400</text>\n",
       "<text text-anchor=\"middle\" x=\"367\" y=\"-126.8\" font-family=\"Times New Roman,serif\" font-size=\"14.00\">value = [359, 41]</text>\n",
       "<text text-anchor=\"middle\" x=\"367\" y=\"-111.8\" font-family=\"Times New Roman,serif\" font-size=\"14.00\">class = Died</text>\n",
       "</g>\n",
       "<!-- 2&#45;&gt;6 -->\n",
       "<g id=\"edge6\" class=\"edge\"><title>2-&gt;6</title>\n",
       "<path fill=\"none\" stroke=\"black\" d=\"M367,-222.907C367,-214.649 367,-205.864 367,-197.302\"/>\n",
       "<polygon fill=\"black\" stroke=\"black\" points=\"370.5,-197.021 367,-187.021 363.5,-197.021 370.5,-197.021\"/>\n",
       "</g>\n",
       "<!-- 4 -->\n",
       "<g id=\"node5\" class=\"node\"><title>4</title>\n",
       "<polygon fill=\"#48a5e7\" stroke=\"black\" points=\"110,-68 0,-68 0,-0 110,-0 110,-68\"/>\n",
       "<text text-anchor=\"middle\" x=\"55\" y=\"-52.8\" font-family=\"Times New Roman,serif\" font-size=\"14.00\">entropy = 0.371</text>\n",
       "<text text-anchor=\"middle\" x=\"55\" y=\"-37.8\" font-family=\"Times New Roman,serif\" font-size=\"14.00\">samples = 14</text>\n",
       "<text text-anchor=\"middle\" x=\"55\" y=\"-22.8\" font-family=\"Times New Roman,serif\" font-size=\"14.00\">value = [1, 13]</text>\n",
       "<text text-anchor=\"middle\" x=\"55\" y=\"-7.8\" font-family=\"Times New Roman,serif\" font-size=\"14.00\">class = Survived</text>\n",
       "</g>\n",
       "<!-- 3&#45;&gt;4 -->\n",
       "<g id=\"edge4\" class=\"edge\"><title>3-&gt;4</title>\n",
       "<path fill=\"none\" stroke=\"black\" d=\"M129.689,-103.726C119.578,-94.423 108.841,-84.5428 98.7541,-75.2612\"/>\n",
       "<polygon fill=\"black\" stroke=\"black\" points=\"100.917,-72.4953 91.1886,-68.2996 96.1774,-77.6464 100.917,-72.4953\"/>\n",
       "</g>\n",
       "<!-- 5 -->\n",
       "<g id=\"node6\" class=\"node\"><title>5</title>\n",
       "<polygon fill=\"#e58139\" stroke=\"black\" points=\"220,-68 128,-68 128,-0 220,-0 220,-68\"/>\n",
       "<text text-anchor=\"middle\" x=\"174\" y=\"-52.8\" font-family=\"Times New Roman,serif\" font-size=\"14.00\">entropy = 0.0</text>\n",
       "<text text-anchor=\"middle\" x=\"174\" y=\"-37.8\" font-family=\"Times New Roman,serif\" font-size=\"14.00\">samples = 1</text>\n",
       "<text text-anchor=\"middle\" x=\"174\" y=\"-22.8\" font-family=\"Times New Roman,serif\" font-size=\"14.00\">value = [1, 0]</text>\n",
       "<text text-anchor=\"middle\" x=\"174\" y=\"-7.8\" font-family=\"Times New Roman,serif\" font-size=\"14.00\">class = Died</text>\n",
       "</g>\n",
       "<!-- 3&#45;&gt;5 -->\n",
       "<g id=\"edge5\" class=\"edge\"><title>3-&gt;5</title>\n",
       "<path fill=\"none\" stroke=\"black\" d=\"M174,-103.726C174,-95.5175 174,-86.8595 174,-78.56\"/>\n",
       "<polygon fill=\"black\" stroke=\"black\" points=\"177.5,-78.2996 174,-68.2996 170.5,-78.2996 177.5,-78.2996\"/>\n",
       "</g>\n",
       "<!-- 7 -->\n",
       "<g id=\"node8\" class=\"node\"><title>7</title>\n",
       "<polygon fill=\"#e88d4d\" stroke=\"black\" points=\"349.5,-68 238.5,-68 238.5,-0 349.5,-0 349.5,-68\"/>\n",
       "<text text-anchor=\"middle\" x=\"294\" y=\"-52.8\" font-family=\"Times New Roman,serif\" font-size=\"14.00\">entropy = 0.437</text>\n",
       "<text text-anchor=\"middle\" x=\"294\" y=\"-37.8\" font-family=\"Times New Roman,serif\" font-size=\"14.00\">samples = 355</text>\n",
       "<text text-anchor=\"middle\" x=\"294\" y=\"-22.8\" font-family=\"Times New Roman,serif\" font-size=\"14.00\">value = [323, 32]</text>\n",
       "<text text-anchor=\"middle\" x=\"294\" y=\"-7.8\" font-family=\"Times New Roman,serif\" font-size=\"14.00\">class = Died</text>\n",
       "</g>\n",
       "<!-- 6&#45;&gt;7 -->\n",
       "<g id=\"edge7\" class=\"edge\"><title>6-&gt;7</title>\n",
       "<path fill=\"none\" stroke=\"black\" d=\"M339.817,-103.726C333.919,-94.879 327.673,-85.51 321.754,-76.6303\"/>\n",
       "<polygon fill=\"black\" stroke=\"black\" points=\"324.659,-74.6787 316.2,-68.2996 318.835,-78.5616 324.659,-74.6787\"/>\n",
       "</g>\n",
       "<!-- 8 -->\n",
       "<g id=\"node9\" class=\"node\"><title>8</title>\n",
       "<polygon fill=\"#eca06a\" stroke=\"black\" points=\"474,-68 368,-68 368,-0 474,-0 474,-68\"/>\n",
       "<text text-anchor=\"middle\" x=\"421\" y=\"-52.8\" font-family=\"Times New Roman,serif\" font-size=\"14.00\">entropy = 0.722</text>\n",
       "<text text-anchor=\"middle\" x=\"421\" y=\"-37.8\" font-family=\"Times New Roman,serif\" font-size=\"14.00\">samples = 45</text>\n",
       "<text text-anchor=\"middle\" x=\"421\" y=\"-22.8\" font-family=\"Times New Roman,serif\" font-size=\"14.00\">value = [36, 9]</text>\n",
       "<text text-anchor=\"middle\" x=\"421\" y=\"-7.8\" font-family=\"Times New Roman,serif\" font-size=\"14.00\">class = Died</text>\n",
       "</g>\n",
       "<!-- 6&#45;&gt;8 -->\n",
       "<g id=\"edge8\" class=\"edge\"><title>6-&gt;8</title>\n",
       "<path fill=\"none\" stroke=\"black\" d=\"M387.108,-103.726C391.336,-95.1527 395.805,-86.0891 400.063,-77.4555\"/>\n",
       "<polygon fill=\"black\" stroke=\"black\" points=\"403.294,-78.8164 404.578,-68.2996 397.016,-75.7203 403.294,-78.8164\"/>\n",
       "</g>\n",
       "<!-- 10 -->\n",
       "<g id=\"node11\" class=\"node\"><title>10</title>\n",
       "<polygon fill=\"#f6d1b7\" stroke=\"black\" points=\"726,-187 620,-187 620,-104 726,-104 726,-187\"/>\n",
       "<text text-anchor=\"middle\" x=\"673\" y=\"-171.8\" font-family=\"Times New Roman,serif\" font-size=\"14.00\">Age &lt;= 13.5</text>\n",
       "<text text-anchor=\"middle\" x=\"673\" y=\"-156.8\" font-family=\"Times New Roman,serif\" font-size=\"14.00\">entropy = 0.964</text>\n",
       "<text text-anchor=\"middle\" x=\"673\" y=\"-141.8\" font-family=\"Times New Roman,serif\" font-size=\"14.00\">samples = 139</text>\n",
       "<text text-anchor=\"middle\" x=\"673\" y=\"-126.8\" font-family=\"Times New Roman,serif\" font-size=\"14.00\">value = [85, 54]</text>\n",
       "<text text-anchor=\"middle\" x=\"673\" y=\"-111.8\" font-family=\"Times New Roman,serif\" font-size=\"14.00\">class = Died</text>\n",
       "</g>\n",
       "<!-- 9&#45;&gt;10 -->\n",
       "<g id=\"edge10\" class=\"edge\"><title>9-&gt;10</title>\n",
       "<path fill=\"none\" stroke=\"black\" d=\"M713.489,-222.907C708.873,-214.195 703.945,-204.897 699.174,-195.893\"/>\n",
       "<polygon fill=\"black\" stroke=\"black\" points=\"702.248,-194.218 694.473,-187.021 696.062,-197.496 702.248,-194.218\"/>\n",
       "</g>\n",
       "<!-- 13 -->\n",
       "<g id=\"node14\" class=\"node\"><title>13</title>\n",
       "<polygon fill=\"#e68742\" stroke=\"black\" points=\"850,-187 744,-187 744,-104 850,-104 850,-187\"/>\n",
       "<text text-anchor=\"middle\" x=\"797\" y=\"-171.8\" font-family=\"Times New Roman,serif\" font-size=\"14.00\">Age &lt;= 3.5</text>\n",
       "<text text-anchor=\"middle\" x=\"797\" y=\"-156.8\" font-family=\"Times New Roman,serif\" font-size=\"14.00\">entropy = 0.258</text>\n",
       "<text text-anchor=\"middle\" x=\"797\" y=\"-141.8\" font-family=\"Times New Roman,serif\" font-size=\"14.00\">samples = 23</text>\n",
       "<text text-anchor=\"middle\" x=\"797\" y=\"-126.8\" font-family=\"Times New Roman,serif\" font-size=\"14.00\">value = [22, 1]</text>\n",
       "<text text-anchor=\"middle\" x=\"797\" y=\"-111.8\" font-family=\"Times New Roman,serif\" font-size=\"14.00\">class = Died</text>\n",
       "</g>\n",
       "<!-- 9&#45;&gt;13 -->\n",
       "<g id=\"edge13\" class=\"edge\"><title>9-&gt;13</title>\n",
       "<path fill=\"none\" stroke=\"black\" d=\"M756.511,-222.907C761.127,-214.195 766.055,-204.897 770.826,-195.893\"/>\n",
       "<polygon fill=\"black\" stroke=\"black\" points=\"773.938,-197.496 775.527,-187.021 767.752,-194.218 773.938,-197.496\"/>\n",
       "</g>\n",
       "<!-- 11 -->\n",
       "<g id=\"node12\" class=\"node\"><title>11</title>\n",
       "<polygon fill=\"#399de5\" stroke=\"black\" points=\"602,-68 492,-68 492,-0 602,-0 602,-68\"/>\n",
       "<text text-anchor=\"middle\" x=\"547\" y=\"-52.8\" font-family=\"Times New Roman,serif\" font-size=\"14.00\">entropy = 0.0</text>\n",
       "<text text-anchor=\"middle\" x=\"547\" y=\"-37.8\" font-family=\"Times New Roman,serif\" font-size=\"14.00\">samples = 7</text>\n",
       "<text text-anchor=\"middle\" x=\"547\" y=\"-22.8\" font-family=\"Times New Roman,serif\" font-size=\"14.00\">value = [0, 7]</text>\n",
       "<text text-anchor=\"middle\" x=\"547\" y=\"-7.8\" font-family=\"Times New Roman,serif\" font-size=\"14.00\">class = Survived</text>\n",
       "</g>\n",
       "<!-- 10&#45;&gt;11 -->\n",
       "<g id=\"edge11\" class=\"edge\"><title>10-&gt;11</title>\n",
       "<path fill=\"none\" stroke=\"black\" d=\"M626.082,-103.726C615.272,-94.3318 603.785,-84.349 593.014,-74.9883\"/>\n",
       "<polygon fill=\"black\" stroke=\"black\" points=\"595.161,-72.2174 585.317,-68.2996 590.57,-77.501 595.161,-72.2174\"/>\n",
       "</g>\n",
       "<!-- 12 -->\n",
       "<g id=\"node13\" class=\"node\"><title>12</title>\n",
       "<polygon fill=\"#f3c7a6\" stroke=\"black\" points=\"726,-68 620,-68 620,-0 726,-0 726,-68\"/>\n",
       "<text text-anchor=\"middle\" x=\"673\" y=\"-52.8\" font-family=\"Times New Roman,serif\" font-size=\"14.00\">entropy = 0.939</text>\n",
       "<text text-anchor=\"middle\" x=\"673\" y=\"-37.8\" font-family=\"Times New Roman,serif\" font-size=\"14.00\">samples = 132</text>\n",
       "<text text-anchor=\"middle\" x=\"673\" y=\"-22.8\" font-family=\"Times New Roman,serif\" font-size=\"14.00\">value = [85, 47]</text>\n",
       "<text text-anchor=\"middle\" x=\"673\" y=\"-7.8\" font-family=\"Times New Roman,serif\" font-size=\"14.00\">class = Died</text>\n",
       "</g>\n",
       "<!-- 10&#45;&gt;12 -->\n",
       "<g id=\"edge12\" class=\"edge\"><title>10-&gt;12</title>\n",
       "<path fill=\"none\" stroke=\"black\" d=\"M673,-103.726C673,-95.5175 673,-86.8595 673,-78.56\"/>\n",
       "<polygon fill=\"black\" stroke=\"black\" points=\"676.5,-78.2996 673,-68.2996 669.5,-78.2996 676.5,-78.2996\"/>\n",
       "</g>\n",
       "<!-- 14 -->\n",
       "<g id=\"node15\" class=\"node\"><title>14</title>\n",
       "<polygon fill=\"#eca06a\" stroke=\"black\" points=\"850,-68 744,-68 744,-0 850,-0 850,-68\"/>\n",
       "<text text-anchor=\"middle\" x=\"797\" y=\"-52.8\" font-family=\"Times New Roman,serif\" font-size=\"14.00\">entropy = 0.722</text>\n",
       "<text text-anchor=\"middle\" x=\"797\" y=\"-37.8\" font-family=\"Times New Roman,serif\" font-size=\"14.00\">samples = 5</text>\n",
       "<text text-anchor=\"middle\" x=\"797\" y=\"-22.8\" font-family=\"Times New Roman,serif\" font-size=\"14.00\">value = [4, 1]</text>\n",
       "<text text-anchor=\"middle\" x=\"797\" y=\"-7.8\" font-family=\"Times New Roman,serif\" font-size=\"14.00\">class = Died</text>\n",
       "</g>\n",
       "<!-- 13&#45;&gt;14 -->\n",
       "<g id=\"edge14\" class=\"edge\"><title>13-&gt;14</title>\n",
       "<path fill=\"none\" stroke=\"black\" d=\"M797,-103.726C797,-95.5175 797,-86.8595 797,-78.56\"/>\n",
       "<polygon fill=\"black\" stroke=\"black\" points=\"800.5,-78.2996 797,-68.2996 793.5,-78.2996 800.5,-78.2996\"/>\n",
       "</g>\n",
       "<!-- 15 -->\n",
       "<g id=\"node16\" class=\"node\"><title>15</title>\n",
       "<polygon fill=\"#e58139\" stroke=\"black\" points=\"966,-68 868,-68 868,-0 966,-0 966,-68\"/>\n",
       "<text text-anchor=\"middle\" x=\"917\" y=\"-52.8\" font-family=\"Times New Roman,serif\" font-size=\"14.00\">entropy = 0.0</text>\n",
       "<text text-anchor=\"middle\" x=\"917\" y=\"-37.8\" font-family=\"Times New Roman,serif\" font-size=\"14.00\">samples = 18</text>\n",
       "<text text-anchor=\"middle\" x=\"917\" y=\"-22.8\" font-family=\"Times New Roman,serif\" font-size=\"14.00\">value = [18, 0]</text>\n",
       "<text text-anchor=\"middle\" x=\"917\" y=\"-7.8\" font-family=\"Times New Roman,serif\" font-size=\"14.00\">class = Died</text>\n",
       "</g>\n",
       "<!-- 13&#45;&gt;15 -->\n",
       "<g id=\"edge15\" class=\"edge\"><title>13-&gt;15</title>\n",
       "<path fill=\"none\" stroke=\"black\" d=\"M841.684,-103.726C851.879,-94.423 862.707,-84.5428 872.878,-75.2612\"/>\n",
       "<polygon fill=\"black\" stroke=\"black\" points=\"875.48,-77.6255 880.507,-68.2996 870.761,-72.4547 875.48,-77.6255\"/>\n",
       "</g>\n",
       "<!-- 17 -->\n",
       "<g id=\"node18\" class=\"node\"><title>17</title>\n",
       "<polygon fill=\"#44a2e6\" stroke=\"black\" points=\"1268,-306 1158,-306 1158,-223 1268,-223 1268,-306\"/>\n",
       "<text text-anchor=\"middle\" x=\"1213\" y=\"-290.8\" font-family=\"Times New Roman,serif\" font-size=\"14.00\">Fare &lt;= 28.856</text>\n",
       "<text text-anchor=\"middle\" x=\"1213\" y=\"-275.8\" font-family=\"Times New Roman,serif\" font-size=\"14.00\">entropy = 0.299</text>\n",
       "<text text-anchor=\"middle\" x=\"1213\" y=\"-260.8\" font-family=\"Times New Roman,serif\" font-size=\"14.00\">samples = 170</text>\n",
       "<text text-anchor=\"middle\" x=\"1213\" y=\"-245.8\" font-family=\"Times New Roman,serif\" font-size=\"14.00\">value = [9, 161]</text>\n",
       "<text text-anchor=\"middle\" x=\"1213\" y=\"-230.8\" font-family=\"Times New Roman,serif\" font-size=\"14.00\">class = Survived</text>\n",
       "</g>\n",
       "<!-- 16&#45;&gt;17 -->\n",
       "<g id=\"edge17\" class=\"edge\"><title>16-&gt;17</title>\n",
       "<path fill=\"none\" stroke=\"black\" d=\"M1213,-341.907C1213,-333.649 1213,-324.864 1213,-316.302\"/>\n",
       "<polygon fill=\"black\" stroke=\"black\" points=\"1216.5,-316.021 1213,-306.021 1209.5,-316.021 1216.5,-316.021\"/>\n",
       "</g>\n",
       "<!-- 24 -->\n",
       "<g id=\"node25\" class=\"node\"><title>24</title>\n",
       "<polygon fill=\"#ffffff\" stroke=\"black\" points=\"1630,-306 1526,-306 1526,-223 1630,-223 1630,-306\"/>\n",
       "<text text-anchor=\"middle\" x=\"1578\" y=\"-290.8\" font-family=\"Times New Roman,serif\" font-size=\"14.00\">Fare &lt;= 23.35</text>\n",
       "<text text-anchor=\"middle\" x=\"1578\" y=\"-275.8\" font-family=\"Times New Roman,serif\" font-size=\"14.00\">entropy = 1.0</text>\n",
       "<text text-anchor=\"middle\" x=\"1578\" y=\"-260.8\" font-family=\"Times New Roman,serif\" font-size=\"14.00\">samples = 144</text>\n",
       "<text text-anchor=\"middle\" x=\"1578\" y=\"-245.8\" font-family=\"Times New Roman,serif\" font-size=\"14.00\">value = [72, 72]</text>\n",
       "<text text-anchor=\"middle\" x=\"1578\" y=\"-230.8\" font-family=\"Times New Roman,serif\" font-size=\"14.00\">class = Died</text>\n",
       "</g>\n",
       "<!-- 16&#45;&gt;24 -->\n",
       "<g id=\"edge24\" class=\"edge\"><title>16-&gt;24</title>\n",
       "<path fill=\"none\" stroke=\"black\" d=\"M1268.83,-364.603C1335.45,-343.248 1446.51,-307.65 1515.81,-285.434\"/>\n",
       "<polygon fill=\"black\" stroke=\"black\" points=\"1517.27,-288.642 1525.72,-282.257 1515.13,-281.977 1517.27,-288.642\"/>\n",
       "</g>\n",
       "<!-- 18 -->\n",
       "<g id=\"node19\" class=\"node\"><title>18</title>\n",
       "<polygon fill=\"#4fa8e8\" stroke=\"black\" points=\"1204,-187 1094,-187 1094,-104 1204,-104 1204,-187\"/>\n",
       "<text text-anchor=\"middle\" x=\"1149\" y=\"-171.8\" font-family=\"Times New Roman,serif\" font-size=\"14.00\">Fare &lt;= 28.231</text>\n",
       "<text text-anchor=\"middle\" x=\"1149\" y=\"-156.8\" font-family=\"Times New Roman,serif\" font-size=\"14.00\">entropy = 0.469</text>\n",
       "<text text-anchor=\"middle\" x=\"1149\" y=\"-141.8\" font-family=\"Times New Roman,serif\" font-size=\"14.00\">samples = 70</text>\n",
       "<text text-anchor=\"middle\" x=\"1149\" y=\"-126.8\" font-family=\"Times New Roman,serif\" font-size=\"14.00\">value = [7, 63]</text>\n",
       "<text text-anchor=\"middle\" x=\"1149\" y=\"-111.8\" font-family=\"Times New Roman,serif\" font-size=\"14.00\">class = Survived</text>\n",
       "</g>\n",
       "<!-- 17&#45;&gt;18 -->\n",
       "<g id=\"edge18\" class=\"edge\"><title>17-&gt;18</title>\n",
       "<path fill=\"none\" stroke=\"black\" d=\"M1190.8,-222.907C1186.03,-214.195 1180.94,-204.897 1176.02,-195.893\"/>\n",
       "<polygon fill=\"black\" stroke=\"black\" points=\"1179.03,-194.114 1171.17,-187.021 1172.89,-197.474 1179.03,-194.114\"/>\n",
       "</g>\n",
       "<!-- 21 -->\n",
       "<g id=\"node22\" class=\"node\"><title>21</title>\n",
       "<polygon fill=\"#3d9fe6\" stroke=\"black\" points=\"1332,-187 1222,-187 1222,-104 1332,-104 1332,-187\"/>\n",
       "<text text-anchor=\"middle\" x=\"1277\" y=\"-171.8\" font-family=\"Times New Roman,serif\" font-size=\"14.00\">Age &lt;= 2.5</text>\n",
       "<text text-anchor=\"middle\" x=\"1277\" y=\"-156.8\" font-family=\"Times New Roman,serif\" font-size=\"14.00\">entropy = 0.141</text>\n",
       "<text text-anchor=\"middle\" x=\"1277\" y=\"-141.8\" font-family=\"Times New Roman,serif\" font-size=\"14.00\">samples = 100</text>\n",
       "<text text-anchor=\"middle\" x=\"1277\" y=\"-126.8\" font-family=\"Times New Roman,serif\" font-size=\"14.00\">value = [2, 98]</text>\n",
       "<text text-anchor=\"middle\" x=\"1277\" y=\"-111.8\" font-family=\"Times New Roman,serif\" font-size=\"14.00\">class = Survived</text>\n",
       "</g>\n",
       "<!-- 17&#45;&gt;21 -->\n",
       "<g id=\"edge21\" class=\"edge\"><title>17-&gt;21</title>\n",
       "<path fill=\"none\" stroke=\"black\" d=\"M1235.2,-222.907C1239.97,-214.195 1245.06,-204.897 1249.98,-195.893\"/>\n",
       "<polygon fill=\"black\" stroke=\"black\" points=\"1253.11,-197.474 1254.83,-187.021 1246.97,-194.114 1253.11,-197.474\"/>\n",
       "</g>\n",
       "<!-- 19 -->\n",
       "<g id=\"node20\" class=\"node\"><title>19</title>\n",
       "<polygon fill=\"#4ca6e7\" stroke=\"black\" points=\"1094,-68 984,-68 984,-0 1094,-0 1094,-68\"/>\n",
       "<text text-anchor=\"middle\" x=\"1039\" y=\"-52.8\" font-family=\"Times New Roman,serif\" font-size=\"14.00\">entropy = 0.426</text>\n",
       "<text text-anchor=\"middle\" x=\"1039\" y=\"-37.8\" font-family=\"Times New Roman,serif\" font-size=\"14.00\">samples = 69</text>\n",
       "<text text-anchor=\"middle\" x=\"1039\" y=\"-22.8\" font-family=\"Times New Roman,serif\" font-size=\"14.00\">value = [6, 63]</text>\n",
       "<text text-anchor=\"middle\" x=\"1039\" y=\"-7.8\" font-family=\"Times New Roman,serif\" font-size=\"14.00\">class = Survived</text>\n",
       "</g>\n",
       "<!-- 18&#45;&gt;19 -->\n",
       "<g id=\"edge19\" class=\"edge\"><title>18-&gt;19</title>\n",
       "<path fill=\"none\" stroke=\"black\" d=\"M1108.04,-103.726C1098.79,-94.5142 1088.96,-84.7364 1079.72,-75.5343\"/>\n",
       "<polygon fill=\"black\" stroke=\"black\" points=\"1082.01,-72.8741 1072.45,-68.2996 1077.07,-77.8351 1082.01,-72.8741\"/>\n",
       "</g>\n",
       "<!-- 20 -->\n",
       "<g id=\"node21\" class=\"node\"><title>20</title>\n",
       "<polygon fill=\"#e58139\" stroke=\"black\" points=\"1204,-68 1112,-68 1112,-0 1204,-0 1204,-68\"/>\n",
       "<text text-anchor=\"middle\" x=\"1158\" y=\"-52.8\" font-family=\"Times New Roman,serif\" font-size=\"14.00\">entropy = 0.0</text>\n",
       "<text text-anchor=\"middle\" x=\"1158\" y=\"-37.8\" font-family=\"Times New Roman,serif\" font-size=\"14.00\">samples = 1</text>\n",
       "<text text-anchor=\"middle\" x=\"1158\" y=\"-22.8\" font-family=\"Times New Roman,serif\" font-size=\"14.00\">value = [1, 0]</text>\n",
       "<text text-anchor=\"middle\" x=\"1158\" y=\"-7.8\" font-family=\"Times New Roman,serif\" font-size=\"14.00\">class = Died</text>\n",
       "</g>\n",
       "<!-- 18&#45;&gt;20 -->\n",
       "<g id=\"edge20\" class=\"edge\"><title>18-&gt;20</title>\n",
       "<path fill=\"none\" stroke=\"black\" d=\"M1152.35,-103.726C1153.03,-95.4263 1153.75,-86.6671 1154.44,-78.2834\"/>\n",
       "<polygon fill=\"black\" stroke=\"black\" points=\"1157.93,-78.5527 1155.26,-68.2996 1150.96,-77.9793 1157.93,-78.5527\"/>\n",
       "</g>\n",
       "<!-- 22 -->\n",
       "<g id=\"node23\" class=\"node\"><title>22</title>\n",
       "<polygon fill=\"#e58139\" stroke=\"black\" points=\"1314,-68 1222,-68 1222,-0 1314,-0 1314,-68\"/>\n",
       "<text text-anchor=\"middle\" x=\"1268\" y=\"-52.8\" font-family=\"Times New Roman,serif\" font-size=\"14.00\">entropy = 0.0</text>\n",
       "<text text-anchor=\"middle\" x=\"1268\" y=\"-37.8\" font-family=\"Times New Roman,serif\" font-size=\"14.00\">samples = 1</text>\n",
       "<text text-anchor=\"middle\" x=\"1268\" y=\"-22.8\" font-family=\"Times New Roman,serif\" font-size=\"14.00\">value = [1, 0]</text>\n",
       "<text text-anchor=\"middle\" x=\"1268\" y=\"-7.8\" font-family=\"Times New Roman,serif\" font-size=\"14.00\">class = Died</text>\n",
       "</g>\n",
       "<!-- 21&#45;&gt;22 -->\n",
       "<g id=\"edge22\" class=\"edge\"><title>21-&gt;22</title>\n",
       "<path fill=\"none\" stroke=\"black\" d=\"M1273.65,-103.726C1272.97,-95.4263 1272.25,-86.6671 1271.56,-78.2834\"/>\n",
       "<polygon fill=\"black\" stroke=\"black\" points=\"1275.04,-77.9793 1270.74,-68.2996 1268.07,-78.5527 1275.04,-77.9793\"/>\n",
       "</g>\n",
       "<!-- 23 -->\n",
       "<g id=\"node24\" class=\"node\"><title>23</title>\n",
       "<polygon fill=\"#3b9ee5\" stroke=\"black\" points=\"1442,-68 1332,-68 1332,-0 1442,-0 1442,-68\"/>\n",
       "<text text-anchor=\"middle\" x=\"1387\" y=\"-52.8\" font-family=\"Times New Roman,serif\" font-size=\"14.00\">entropy = 0.081</text>\n",
       "<text text-anchor=\"middle\" x=\"1387\" y=\"-37.8\" font-family=\"Times New Roman,serif\" font-size=\"14.00\">samples = 99</text>\n",
       "<text text-anchor=\"middle\" x=\"1387\" y=\"-22.8\" font-family=\"Times New Roman,serif\" font-size=\"14.00\">value = [1, 98]</text>\n",
       "<text text-anchor=\"middle\" x=\"1387\" y=\"-7.8\" font-family=\"Times New Roman,serif\" font-size=\"14.00\">class = Survived</text>\n",
       "</g>\n",
       "<!-- 21&#45;&gt;23 -->\n",
       "<g id=\"edge23\" class=\"edge\"><title>21-&gt;23</title>\n",
       "<path fill=\"none\" stroke=\"black\" d=\"M1317.96,-103.726C1327.21,-94.5142 1337.04,-84.7364 1346.28,-75.5343\"/>\n",
       "<polygon fill=\"black\" stroke=\"black\" points=\"1348.93,-77.8351 1353.55,-68.2996 1343.99,-72.8741 1348.93,-77.8351\"/>\n",
       "</g>\n",
       "<!-- 25 -->\n",
       "<g id=\"node26\" class=\"node\"><title>25</title>\n",
       "<polygon fill=\"#c3e1f7\" stroke=\"black\" points=\"1633,-187 1523,-187 1523,-104 1633,-104 1633,-187\"/>\n",
       "<text text-anchor=\"middle\" x=\"1578\" y=\"-171.8\" font-family=\"Times New Roman,serif\" font-size=\"14.00\">Age &lt;= 36.5</text>\n",
       "<text text-anchor=\"middle\" x=\"1578\" y=\"-156.8\" font-family=\"Times New Roman,serif\" font-size=\"14.00\">entropy = 0.977</text>\n",
       "<text text-anchor=\"middle\" x=\"1578\" y=\"-141.8\" font-family=\"Times New Roman,serif\" font-size=\"14.00\">samples = 117</text>\n",
       "<text text-anchor=\"middle\" x=\"1578\" y=\"-126.8\" font-family=\"Times New Roman,serif\" font-size=\"14.00\">value = [48, 69]</text>\n",
       "<text text-anchor=\"middle\" x=\"1578\" y=\"-111.8\" font-family=\"Times New Roman,serif\" font-size=\"14.00\">class = Survived</text>\n",
       "</g>\n",
       "<!-- 24&#45;&gt;25 -->\n",
       "<g id=\"edge25\" class=\"edge\"><title>24-&gt;25</title>\n",
       "<path fill=\"none\" stroke=\"black\" d=\"M1578,-222.907C1578,-214.649 1578,-205.864 1578,-197.302\"/>\n",
       "<polygon fill=\"black\" stroke=\"black\" points=\"1581.5,-197.021 1578,-187.021 1574.5,-197.021 1581.5,-197.021\"/>\n",
       "</g>\n",
       "<!-- 28 -->\n",
       "<g id=\"node29\" class=\"node\"><title>28</title>\n",
       "<polygon fill=\"#e89152\" stroke=\"black\" points=\"1820,-187 1714,-187 1714,-104 1820,-104 1820,-187\"/>\n",
       "<text text-anchor=\"middle\" x=\"1767\" y=\"-171.8\" font-family=\"Times New Roman,serif\" font-size=\"14.00\">Parch &lt;= 0.5</text>\n",
       "<text text-anchor=\"middle\" x=\"1767\" y=\"-156.8\" font-family=\"Times New Roman,serif\" font-size=\"14.00\">entropy = 0.503</text>\n",
       "<text text-anchor=\"middle\" x=\"1767\" y=\"-141.8\" font-family=\"Times New Roman,serif\" font-size=\"14.00\">samples = 27</text>\n",
       "<text text-anchor=\"middle\" x=\"1767\" y=\"-126.8\" font-family=\"Times New Roman,serif\" font-size=\"14.00\">value = [24, 3]</text>\n",
       "<text text-anchor=\"middle\" x=\"1767\" y=\"-111.8\" font-family=\"Times New Roman,serif\" font-size=\"14.00\">class = Died</text>\n",
       "</g>\n",
       "<!-- 24&#45;&gt;28 -->\n",
       "<g id=\"edge28\" class=\"edge\"><title>24-&gt;28</title>\n",
       "<path fill=\"none\" stroke=\"black\" d=\"M1630.15,-231.22C1653.31,-216.882 1680.75,-199.895 1704.95,-184.91\"/>\n",
       "<polygon fill=\"black\" stroke=\"black\" points=\"1707.05,-187.728 1713.71,-179.489 1703.37,-181.777 1707.05,-187.728\"/>\n",
       "</g>\n",
       "<!-- 26 -->\n",
       "<g id=\"node27\" class=\"node\"><title>26</title>\n",
       "<polygon fill=\"#b3daf5\" stroke=\"black\" points=\"1570,-68 1460,-68 1460,-0 1570,-0 1570,-68\"/>\n",
       "<text text-anchor=\"middle\" x=\"1515\" y=\"-52.8\" font-family=\"Times New Roman,serif\" font-size=\"14.00\">entropy = 0.959</text>\n",
       "<text text-anchor=\"middle\" x=\"1515\" y=\"-37.8\" font-family=\"Times New Roman,serif\" font-size=\"14.00\">samples = 110</text>\n",
       "<text text-anchor=\"middle\" x=\"1515\" y=\"-22.8\" font-family=\"Times New Roman,serif\" font-size=\"14.00\">value = [42, 68]</text>\n",
       "<text text-anchor=\"middle\" x=\"1515\" y=\"-7.8\" font-family=\"Times New Roman,serif\" font-size=\"14.00\">class = Survived</text>\n",
       "</g>\n",
       "<!-- 25&#45;&gt;26 -->\n",
       "<g id=\"edge26\" class=\"edge\"><title>25-&gt;26</title>\n",
       "<path fill=\"none\" stroke=\"black\" d=\"M1554.54,-103.726C1549.56,-95.0615 1544.28,-85.8962 1539.27,-77.1802\"/>\n",
       "<polygon fill=\"black\" stroke=\"black\" points=\"1542.18,-75.2219 1534.16,-68.2996 1536.11,-78.7128 1542.18,-75.2219\"/>\n",
       "</g>\n",
       "<!-- 27 -->\n",
       "<g id=\"node28\" class=\"node\"><title>27</title>\n",
       "<polygon fill=\"#e9965a\" stroke=\"black\" points=\"1694,-68 1588,-68 1588,-0 1694,-0 1694,-68\"/>\n",
       "<text text-anchor=\"middle\" x=\"1641\" y=\"-52.8\" font-family=\"Times New Roman,serif\" font-size=\"14.00\">entropy = 0.592</text>\n",
       "<text text-anchor=\"middle\" x=\"1641\" y=\"-37.8\" font-family=\"Times New Roman,serif\" font-size=\"14.00\">samples = 7</text>\n",
       "<text text-anchor=\"middle\" x=\"1641\" y=\"-22.8\" font-family=\"Times New Roman,serif\" font-size=\"14.00\">value = [6, 1]</text>\n",
       "<text text-anchor=\"middle\" x=\"1641\" y=\"-7.8\" font-family=\"Times New Roman,serif\" font-size=\"14.00\">class = Died</text>\n",
       "</g>\n",
       "<!-- 25&#45;&gt;27 -->\n",
       "<g id=\"edge27\" class=\"edge\"><title>25-&gt;27</title>\n",
       "<path fill=\"none\" stroke=\"black\" d=\"M1601.46,-103.726C1606.44,-95.0615 1611.72,-85.8962 1616.73,-77.1802\"/>\n",
       "<polygon fill=\"black\" stroke=\"black\" points=\"1619.89,-78.7128 1621.84,-68.2996 1613.82,-75.2219 1619.89,-78.7128\"/>\n",
       "</g>\n",
       "<!-- 29 -->\n",
       "<g id=\"node30\" class=\"node\"><title>29</title>\n",
       "<polygon fill=\"#399de5\" stroke=\"black\" points=\"1822,-68 1712,-68 1712,-0 1822,-0 1822,-68\"/>\n",
       "<text text-anchor=\"middle\" x=\"1767\" y=\"-52.8\" font-family=\"Times New Roman,serif\" font-size=\"14.00\">entropy = 0.0</text>\n",
       "<text text-anchor=\"middle\" x=\"1767\" y=\"-37.8\" font-family=\"Times New Roman,serif\" font-size=\"14.00\">samples = 1</text>\n",
       "<text text-anchor=\"middle\" x=\"1767\" y=\"-22.8\" font-family=\"Times New Roman,serif\" font-size=\"14.00\">value = [0, 1]</text>\n",
       "<text text-anchor=\"middle\" x=\"1767\" y=\"-7.8\" font-family=\"Times New Roman,serif\" font-size=\"14.00\">class = Survived</text>\n",
       "</g>\n",
       "<!-- 28&#45;&gt;29 -->\n",
       "<g id=\"edge29\" class=\"edge\"><title>28-&gt;29</title>\n",
       "<path fill=\"none\" stroke=\"black\" d=\"M1767,-103.726C1767,-95.5175 1767,-86.8595 1767,-78.56\"/>\n",
       "<polygon fill=\"black\" stroke=\"black\" points=\"1770.5,-78.2996 1767,-68.2996 1763.5,-78.2996 1770.5,-78.2996\"/>\n",
       "</g>\n",
       "<!-- 30 -->\n",
       "<g id=\"node31\" class=\"node\"><title>30</title>\n",
       "<polygon fill=\"#e78c49\" stroke=\"black\" points=\"1946,-68 1840,-68 1840,-0 1946,-0 1946,-68\"/>\n",
       "<text text-anchor=\"middle\" x=\"1893\" y=\"-52.8\" font-family=\"Times New Roman,serif\" font-size=\"14.00\">entropy = 0.391</text>\n",
       "<text text-anchor=\"middle\" x=\"1893\" y=\"-37.8\" font-family=\"Times New Roman,serif\" font-size=\"14.00\">samples = 26</text>\n",
       "<text text-anchor=\"middle\" x=\"1893\" y=\"-22.8\" font-family=\"Times New Roman,serif\" font-size=\"14.00\">value = [24, 2]</text>\n",
       "<text text-anchor=\"middle\" x=\"1893\" y=\"-7.8\" font-family=\"Times New Roman,serif\" font-size=\"14.00\">class = Died</text>\n",
       "</g>\n",
       "<!-- 28&#45;&gt;30 -->\n",
       "<g id=\"edge30\" class=\"edge\"><title>28-&gt;30</title>\n",
       "<path fill=\"none\" stroke=\"black\" d=\"M1813.92,-103.726C1824.73,-94.3318 1836.21,-84.349 1846.99,-74.9883\"/>\n",
       "<polygon fill=\"black\" stroke=\"black\" points=\"1849.43,-77.501 1854.68,-68.2996 1844.84,-72.2174 1849.43,-77.501\"/>\n",
       "</g>\n",
       "</g>\n",
       "</svg>"
      ],
      "text/plain": [
       "<IPython.core.display.SVG object>"
      ]
     },
     "metadata": {},
     "output_type": "display_data"
    }
   ],
   "source": [
    "graph = Source(tree.export_graphviz(clf, out_file=None, feature_names=list(X),\n",
    "class_names=['Died', 'Survived'], filled=True))\n",
    "display(SVG(graph.pipe(format='svg')))"
   ]
  },
  {
   "cell_type": "code",
   "execution_count": 17,
   "metadata": {},
   "outputs": [],
   "source": [
    "export = tree.export_graphviz(clf,feature_names=list(X),filled=True)"
   ]
  },
  {
   "cell_type": "code",
   "execution_count": 18,
   "metadata": {},
   "outputs": [
    {
     "data": {
      "text/plain": [
       "True"
      ]
     },
     "execution_count": 18,
     "metadata": {},
     "output_type": "execute_result"
    }
   ],
   "source": [
    "graph = pydotplus.graph_from_dot_data(export)  \n",
    "graph.write_pdf(\"titanic.pdf\")\n",
    "graph.write_png(\"titanic.png\")"
   ]
  },
  {
   "cell_type": "code",
   "execution_count": 19,
   "metadata": {},
   "outputs": [],
   "source": [
    "X_train, X_test, y_train, y_test = train_test_split(X, y, test_size=0.33, random_state=42)"
   ]
  },
  {
   "cell_type": "code",
   "execution_count": 20,
   "metadata": {},
   "outputs": [
    {
     "data": {
      "text/plain": [
       "DecisionTreeClassifier(criterion='entropy', max_depth=4)"
      ]
     },
     "execution_count": 20,
     "metadata": {},
     "output_type": "execute_result"
    }
   ],
   "source": [
    "clf.fit(X_train, y_train)"
   ]
  },
  {
   "cell_type": "code",
   "execution_count": 21,
   "metadata": {},
   "outputs": [
    {
     "data": {
      "text/plain": [
       "0.8338926174496645"
      ]
     },
     "execution_count": 21,
     "metadata": {},
     "output_type": "execute_result"
    }
   ],
   "source": [
    "clf.score(X_train, y_train)"
   ]
  },
  {
   "cell_type": "code",
   "execution_count": 22,
   "metadata": {},
   "outputs": [
    {
     "data": {
      "text/plain": [
       "0.823728813559322"
      ]
     },
     "execution_count": 22,
     "metadata": {},
     "output_type": "execute_result"
    }
   ],
   "source": [
    "clf.score(X_test, y_test)"
   ]
  },
  {
   "cell_type": "code",
   "execution_count": 23,
   "metadata": {},
   "outputs": [],
   "source": [
    "clf = tree.DecisionTreeClassifier(criterion='entropy', max_depth=5)"
   ]
  },
  {
   "cell_type": "code",
   "execution_count": 24,
   "metadata": {},
   "outputs": [
    {
     "data": {
      "text/plain": [
       "DecisionTreeClassifier(criterion='entropy', max_depth=5)"
      ]
     },
     "execution_count": 24,
     "metadata": {},
     "output_type": "execute_result"
    }
   ],
   "source": [
    "clf.fit(X_train, y_train)"
   ]
  },
  {
   "cell_type": "code",
   "execution_count": 25,
   "metadata": {},
   "outputs": [
    {
     "data": {
      "text/plain": [
       "0.8406040268456376"
      ]
     },
     "execution_count": 25,
     "metadata": {},
     "output_type": "execute_result"
    }
   ],
   "source": [
    "clf.score(X_train, y_train)"
   ]
  },
  {
   "cell_type": "code",
   "execution_count": 26,
   "metadata": {},
   "outputs": [
    {
     "data": {
      "text/plain": [
       "0.8101694915254237"
      ]
     },
     "execution_count": 26,
     "metadata": {},
     "output_type": "execute_result"
    }
   ],
   "source": [
    "clf.score(X_test, y_test)"
   ]
  },
  {
   "cell_type": "code",
   "execution_count": 27,
   "metadata": {},
   "outputs": [],
   "source": [
    "max_depth_values = range(1, 100)"
   ]
  },
  {
   "cell_type": "code",
   "execution_count": 28,
   "metadata": {},
   "outputs": [],
   "source": [
    "scores_data = pd.DataFrame()"
   ]
  },
  {
   "cell_type": "code",
   "execution_count": 29,
   "metadata": {},
   "outputs": [],
   "source": [
    "for max_depth in max_depth_values:\n",
    "    clf = tree.DecisionTreeClassifier(criterion='entropy', max_depth=max_depth)\n",
    "    clf.fit(X_train, y_train)\n",
    "    train_score = clf.score(X_train, y_train)\n",
    "    test_score = clf.score(X_test, y_test)\n",
    "    \n",
    "    mean_cross_val_score = cross_val_score(clf, X_train, y_train, cv=5).mean()\n",
    "\n",
    "    temp_score_data = pd.DataFrame({'max_depth':[max_depth],\n",
    "                                    'train_score':[train_score],\n",
    "                                    'test_score':[test_score],\n",
    "                                    'cross_val_score':[mean_cross_val_score]})\n",
    "    \n",
    "    scores_data = scores_data.append(temp_score_data)"
   ]
  },
  {
   "cell_type": "code",
   "execution_count": 30,
   "metadata": {},
   "outputs": [
    {
     "data": {
      "text/html": [
       "<div>\n",
       "<style scoped>\n",
       "    .dataframe tbody tr th:only-of-type {\n",
       "        vertical-align: middle;\n",
       "    }\n",
       "\n",
       "    .dataframe tbody tr th {\n",
       "        vertical-align: top;\n",
       "    }\n",
       "\n",
       "    .dataframe thead th {\n",
       "        text-align: right;\n",
       "    }\n",
       "</style>\n",
       "<table border=\"1\" class=\"dataframe\">\n",
       "  <thead>\n",
       "    <tr style=\"text-align: right;\">\n",
       "      <th></th>\n",
       "      <th>max_depth</th>\n",
       "      <th>train_score</th>\n",
       "      <th>test_score</th>\n",
       "      <th>cross_val_score</th>\n",
       "    </tr>\n",
       "  </thead>\n",
       "  <tbody>\n",
       "    <tr>\n",
       "      <th>0</th>\n",
       "      <td>1</td>\n",
       "      <td>0.781879</td>\n",
       "      <td>0.796610</td>\n",
       "      <td>0.781961</td>\n",
       "    </tr>\n",
       "    <tr>\n",
       "      <th>0</th>\n",
       "      <td>2</td>\n",
       "      <td>0.805369</td>\n",
       "      <td>0.776271</td>\n",
       "      <td>0.770196</td>\n",
       "    </tr>\n",
       "    <tr>\n",
       "      <th>0</th>\n",
       "      <td>3</td>\n",
       "      <td>0.823826</td>\n",
       "      <td>0.820339</td>\n",
       "      <td>0.790322</td>\n",
       "    </tr>\n",
       "    <tr>\n",
       "      <th>0</th>\n",
       "      <td>4</td>\n",
       "      <td>0.833893</td>\n",
       "      <td>0.823729</td>\n",
       "      <td>0.788627</td>\n",
       "    </tr>\n",
       "    <tr>\n",
       "      <th>0</th>\n",
       "      <td>5</td>\n",
       "      <td>0.840604</td>\n",
       "      <td>0.806780</td>\n",
       "      <td>0.797031</td>\n",
       "    </tr>\n",
       "  </tbody>\n",
       "</table>\n",
       "</div>"
      ],
      "text/plain": [
       "   max_depth  train_score  test_score  cross_val_score\n",
       "0          1     0.781879    0.796610         0.781961\n",
       "0          2     0.805369    0.776271         0.770196\n",
       "0          3     0.823826    0.820339         0.790322\n",
       "0          4     0.833893    0.823729         0.788627\n",
       "0          5     0.840604    0.806780         0.797031"
      ]
     },
     "execution_count": 30,
     "metadata": {},
     "output_type": "execute_result"
    }
   ],
   "source": [
    "scores_data.head()"
   ]
  },
  {
   "cell_type": "code",
   "execution_count": 31,
   "metadata": {},
   "outputs": [],
   "source": [
    "scores_data_long = pd.melt(scores_data, id_vars=['max_depth'],\n",
    "                           value_vars=['train_score', 'test_score', 'cross_val_score'],\n",
    "                           var_name='set_type', value_name='score')"
   ]
  },
  {
   "cell_type": "code",
   "execution_count": 32,
   "metadata": {},
   "outputs": [
    {
     "data": {
      "text/html": [
       "<div>\n",
       "<style scoped>\n",
       "    .dataframe tbody tr th:only-of-type {\n",
       "        vertical-align: middle;\n",
       "    }\n",
       "\n",
       "    .dataframe tbody tr th {\n",
       "        vertical-align: top;\n",
       "    }\n",
       "\n",
       "    .dataframe thead th {\n",
       "        text-align: right;\n",
       "    }\n",
       "</style>\n",
       "<table border=\"1\" class=\"dataframe\">\n",
       "  <thead>\n",
       "    <tr style=\"text-align: right;\">\n",
       "      <th></th>\n",
       "      <th>max_depth</th>\n",
       "      <th>set_type</th>\n",
       "      <th>score</th>\n",
       "    </tr>\n",
       "  </thead>\n",
       "  <tbody>\n",
       "    <tr>\n",
       "      <th>0</th>\n",
       "      <td>1</td>\n",
       "      <td>train_score</td>\n",
       "      <td>0.781879</td>\n",
       "    </tr>\n",
       "    <tr>\n",
       "      <th>1</th>\n",
       "      <td>2</td>\n",
       "      <td>train_score</td>\n",
       "      <td>0.805369</td>\n",
       "    </tr>\n",
       "    <tr>\n",
       "      <th>2</th>\n",
       "      <td>3</td>\n",
       "      <td>train_score</td>\n",
       "      <td>0.823826</td>\n",
       "    </tr>\n",
       "    <tr>\n",
       "      <th>3</th>\n",
       "      <td>4</td>\n",
       "      <td>train_score</td>\n",
       "      <td>0.833893</td>\n",
       "    </tr>\n",
       "    <tr>\n",
       "      <th>4</th>\n",
       "      <td>5</td>\n",
       "      <td>train_score</td>\n",
       "      <td>0.840604</td>\n",
       "    </tr>\n",
       "  </tbody>\n",
       "</table>\n",
       "</div>"
      ],
      "text/plain": [
       "   max_depth     set_type     score\n",
       "0          1  train_score  0.781879\n",
       "1          2  train_score  0.805369\n",
       "2          3  train_score  0.823826\n",
       "3          4  train_score  0.833893\n",
       "4          5  train_score  0.840604"
      ]
     },
     "execution_count": 32,
     "metadata": {},
     "output_type": "execute_result"
    }
   ],
   "source": [
    "scores_data_long.head()"
   ]
  },
  {
   "cell_type": "code",
   "execution_count": 33,
   "metadata": {},
   "outputs": [
    {
     "data": {
      "text/html": [
       "<div>\n",
       "<style scoped>\n",
       "    .dataframe tbody tr th:only-of-type {\n",
       "        vertical-align: middle;\n",
       "    }\n",
       "\n",
       "    .dataframe tbody tr th {\n",
       "        vertical-align: top;\n",
       "    }\n",
       "\n",
       "    .dataframe thead th {\n",
       "        text-align: right;\n",
       "    }\n",
       "</style>\n",
       "<table border=\"1\" class=\"dataframe\">\n",
       "  <thead>\n",
       "    <tr style=\"text-align: right;\">\n",
       "      <th></th>\n",
       "      <th>max_depth</th>\n",
       "      <th>set_type</th>\n",
       "      <th>score</th>\n",
       "    </tr>\n",
       "  </thead>\n",
       "  <tbody>\n",
       "    <tr>\n",
       "      <th>198</th>\n",
       "      <td>1</td>\n",
       "      <td>cross_val_score</td>\n",
       "      <td>0.781961</td>\n",
       "    </tr>\n",
       "    <tr>\n",
       "      <th>199</th>\n",
       "      <td>2</td>\n",
       "      <td>cross_val_score</td>\n",
       "      <td>0.770196</td>\n",
       "    </tr>\n",
       "    <tr>\n",
       "      <th>200</th>\n",
       "      <td>3</td>\n",
       "      <td>cross_val_score</td>\n",
       "      <td>0.790322</td>\n",
       "    </tr>\n",
       "    <tr>\n",
       "      <th>201</th>\n",
       "      <td>4</td>\n",
       "      <td>cross_val_score</td>\n",
       "      <td>0.788627</td>\n",
       "    </tr>\n",
       "    <tr>\n",
       "      <th>202</th>\n",
       "      <td>5</td>\n",
       "      <td>cross_val_score</td>\n",
       "      <td>0.797031</td>\n",
       "    </tr>\n",
       "    <tr>\n",
       "      <th>203</th>\n",
       "      <td>6</td>\n",
       "      <td>cross_val_score</td>\n",
       "      <td>0.802073</td>\n",
       "    </tr>\n",
       "    <tr>\n",
       "      <th>204</th>\n",
       "      <td>7</td>\n",
       "      <td>cross_val_score</td>\n",
       "      <td>0.798697</td>\n",
       "    </tr>\n",
       "    <tr>\n",
       "      <th>205</th>\n",
       "      <td>8</td>\n",
       "      <td>cross_val_score</td>\n",
       "      <td>0.808768</td>\n",
       "    </tr>\n",
       "    <tr>\n",
       "      <th>206</th>\n",
       "      <td>9</td>\n",
       "      <td>cross_val_score</td>\n",
       "      <td>0.790266</td>\n",
       "    </tr>\n",
       "    <tr>\n",
       "      <th>207</th>\n",
       "      <td>10</td>\n",
       "      <td>cross_val_score</td>\n",
       "      <td>0.805392</td>\n",
       "    </tr>\n",
       "    <tr>\n",
       "      <th>208</th>\n",
       "      <td>11</td>\n",
       "      <td>cross_val_score</td>\n",
       "      <td>0.802031</td>\n",
       "    </tr>\n",
       "    <tr>\n",
       "      <th>209</th>\n",
       "      <td>12</td>\n",
       "      <td>cross_val_score</td>\n",
       "      <td>0.788613</td>\n",
       "    </tr>\n",
       "    <tr>\n",
       "      <th>210</th>\n",
       "      <td>13</td>\n",
       "      <td>cross_val_score</td>\n",
       "      <td>0.798669</td>\n",
       "    </tr>\n",
       "    <tr>\n",
       "      <th>211</th>\n",
       "      <td>14</td>\n",
       "      <td>cross_val_score</td>\n",
       "      <td>0.798669</td>\n",
       "    </tr>\n",
       "    <tr>\n",
       "      <th>212</th>\n",
       "      <td>15</td>\n",
       "      <td>cross_val_score</td>\n",
       "      <td>0.786961</td>\n",
       "    </tr>\n",
       "    <tr>\n",
       "      <th>213</th>\n",
       "      <td>16</td>\n",
       "      <td>cross_val_score</td>\n",
       "      <td>0.788641</td>\n",
       "    </tr>\n",
       "    <tr>\n",
       "      <th>214</th>\n",
       "      <td>17</td>\n",
       "      <td>cross_val_score</td>\n",
       "      <td>0.780224</td>\n",
       "    </tr>\n",
       "    <tr>\n",
       "      <th>215</th>\n",
       "      <td>18</td>\n",
       "      <td>cross_val_score</td>\n",
       "      <td>0.786989</td>\n",
       "    </tr>\n",
       "    <tr>\n",
       "      <th>216</th>\n",
       "      <td>19</td>\n",
       "      <td>cross_val_score</td>\n",
       "      <td>0.773515</td>\n",
       "    </tr>\n",
       "    <tr>\n",
       "      <th>217</th>\n",
       "      <td>20</td>\n",
       "      <td>cross_val_score</td>\n",
       "      <td>0.775224</td>\n",
       "    </tr>\n",
       "  </tbody>\n",
       "</table>\n",
       "</div>"
      ],
      "text/plain": [
       "     max_depth         set_type     score\n",
       "198          1  cross_val_score  0.781961\n",
       "199          2  cross_val_score  0.770196\n",
       "200          3  cross_val_score  0.790322\n",
       "201          4  cross_val_score  0.788627\n",
       "202          5  cross_val_score  0.797031\n",
       "203          6  cross_val_score  0.802073\n",
       "204          7  cross_val_score  0.798697\n",
       "205          8  cross_val_score  0.808768\n",
       "206          9  cross_val_score  0.790266\n",
       "207         10  cross_val_score  0.805392\n",
       "208         11  cross_val_score  0.802031\n",
       "209         12  cross_val_score  0.788613\n",
       "210         13  cross_val_score  0.798669\n",
       "211         14  cross_val_score  0.798669\n",
       "212         15  cross_val_score  0.786961\n",
       "213         16  cross_val_score  0.788641\n",
       "214         17  cross_val_score  0.780224\n",
       "215         18  cross_val_score  0.786989\n",
       "216         19  cross_val_score  0.773515\n",
       "217         20  cross_val_score  0.775224"
      ]
     },
     "execution_count": 33,
     "metadata": {},
     "output_type": "execute_result"
    }
   ],
   "source": [
    "scores_data_long.query('set_type == \"cross_val_score\"').head(20)"
   ]
  },
  {
   "cell_type": "code",
   "execution_count": 34,
   "metadata": {},
   "outputs": [
    {
     "data": {
      "text/plain": [
       "<matplotlib.axes._subplots.AxesSubplot at 0x18ba25e0>"
      ]
     },
     "execution_count": 34,
     "metadata": {},
     "output_type": "execute_result"
    },
    {
     "data": {
      "image/png": "[encoded data removed]",
      "text/plain": [
       "<Figure size 432x288 with 1 Axes>"
      ]
     },
     "metadata": {
      "needs_background": "light"
     },
     "output_type": "display_data"
    }
   ],
   "source": [
    "sns.lineplot(x=\"max_depth\", y=\"score\", hue=\"set_type\", data=scores_data_long)"
   ]
  },
  {
   "cell_type": "code",
   "execution_count": 35,
   "metadata": {},
   "outputs": [],
   "source": [
    "best_clf = tree.DecisionTreeClassifier(criterion='entropy', max_depth=10)"
   ]
  },
  {
   "cell_type": "code",
   "execution_count": 36,
   "metadata": {},
   "outputs": [
    {
     "data": {
      "text/plain": [
       "DecisionTreeClassifier(criterion='entropy', max_depth=10)"
      ]
     },
     "execution_count": 36,
     "metadata": {},
     "output_type": "execute_result"
    }
   ],
   "source": [
    "best_clf.fit(X_train, y_train)"
   ]
  },
  {
   "cell_type": "code",
   "execution_count": 37,
   "metadata": {},
   "outputs": [
    {
     "data": {
      "text/plain": [
       "0.8"
      ]
     },
     "execution_count": 37,
     "metadata": {},
     "output_type": "execute_result"
    }
   ],
   "source": [
    "best_clf.score(X_test, y_test)"
   ]
  },
  {
   "cell_type": "code",
   "execution_count": 38,
   "metadata": {},
   "outputs": [],
   "source": [
    "from sklearn.model_selection import GridSearchCV"
   ]
  },
  {
   "cell_type": "code",
   "execution_count": 39,
   "metadata": {},
   "outputs": [],
   "source": [
    "clf = tree.DecisionTreeClassifier()"
   ]
  },
  {
   "cell_type": "code",
   "execution_count": 40,
   "metadata": {},
   "outputs": [
    {
     "data": {
      "text/plain": [
       "DecisionTreeClassifier()"
      ]
     },
     "execution_count": 40,
     "metadata": {},
     "output_type": "execute_result"
    }
   ],
   "source": [
    "clf"
   ]
  },
  {
   "cell_type": "code",
   "execution_count": 41,
   "metadata": {},
   "outputs": [],
   "source": [
    "parameters = {'criterion':['gini', 'entropy'], 'max_depth': range(1, 30)}"
   ]
  },
  {
   "cell_type": "code",
   "execution_count": 42,
   "metadata": {},
   "outputs": [],
   "source": [
    "grid_search_cv_clf = GridSearchCV(clf, parameters, cv = 5)"
   ]
  },
  {
   "cell_type": "code",
   "execution_count": 43,
   "metadata": {},
   "outputs": [
    {
     "data": {
      "text/plain": [
       "GridSearchCV(cv=5, estimator=DecisionTreeClassifier(),\n",
       "             param_grid={'criterion': ['gini', 'entropy'],\n",
       "                         'max_depth': range(1, 30)})"
      ]
     },
     "execution_count": 43,
     "metadata": {},
     "output_type": "execute_result"
    }
   ],
   "source": [
    "grid_search_cv_clf"
   ]
  },
  {
   "cell_type": "code",
   "execution_count": 44,
   "metadata": {},
   "outputs": [
    {
     "data": {
      "text/plain": [
       "GridSearchCV(cv=5, estimator=DecisionTreeClassifier(),\n",
       "             param_grid={'criterion': ['gini', 'entropy'],\n",
       "                         'max_depth': range(1, 30)})"
      ]
     },
     "execution_count": 44,
     "metadata": {},
     "output_type": "execute_result"
    }
   ],
   "source": [
    "grid_search_cv_clf.fit(X_train, y_train)"
   ]
  },
  {
   "cell_type": "code",
   "execution_count": 45,
   "metadata": {},
   "outputs": [
    {
     "data": {
      "text/plain": [
       "{'criterion': 'entropy', 'max_depth': 7}"
      ]
     },
     "execution_count": 45,
     "metadata": {},
     "output_type": "execute_result"
    }
   ],
   "source": [
    "grid_search_cv_clf.best_params_"
   ]
  },
  {
   "cell_type": "code",
   "execution_count": 46,
   "metadata": {},
   "outputs": [],
   "source": [
    "best_clf = grid_search_cv_clf.best_estimator_"
   ]
  },
  {
   "cell_type": "code",
   "execution_count": 47,
   "metadata": {},
   "outputs": [
    {
     "data": {
      "text/plain": [
       "DecisionTreeClassifier(criterion='entropy', max_depth=7)"
      ]
     },
     "execution_count": 47,
     "metadata": {},
     "output_type": "execute_result"
    }
   ],
   "source": [
    "best_clf"
   ]
  },
  {
   "cell_type": "code",
   "execution_count": 48,
   "metadata": {},
   "outputs": [
    {
     "data": {
      "text/plain": [
       "0.7728813559322034"
      ]
     },
     "execution_count": 48,
     "metadata": {},
     "output_type": "execute_result"
    }
   ],
   "source": [
    "best_clf.score(X_test, y_test)"
   ]
  },
  {
   "cell_type": "code",
   "execution_count": 49,
   "metadata": {},
   "outputs": [],
   "source": [
    "from sklearn.metrics import precision_score, recall_score"
   ]
  },
  {
   "cell_type": "code",
   "execution_count": 50,
   "metadata": {},
   "outputs": [],
   "source": [
    "y_pred = best_clf.predict(X_test)"
   ]
  },
  {
   "cell_type": "code",
   "execution_count": 51,
   "metadata": {},
   "outputs": [
    {
     "data": {
      "text/plain": [
       "0.7789473684210526"
      ]
     },
     "execution_count": 51,
     "metadata": {},
     "output_type": "execute_result"
    }
   ],
   "source": [
    "precision_score(y_test, y_pred)"
   ]
  },
  {
   "cell_type": "code",
   "execution_count": 52,
   "metadata": {},
   "outputs": [
    {
     "data": {
      "text/plain": [
       "0.6166666666666667"
      ]
     },
     "execution_count": 52,
     "metadata": {},
     "output_type": "execute_result"
    }
   ],
   "source": [
    "recall_score(y_test, y_pred)"
   ]
  },
  {
   "cell_type": "code",
   "execution_count": 53,
   "metadata": {},
   "outputs": [],
   "source": [
    "y_predicted_prob = best_clf.predict_proba(X_test)"
   ]
  },
  {
   "cell_type": "code",
   "execution_count": 54,
   "metadata": {},
   "outputs": [
    {
     "data": {
      "text/plain": [
       "array([0, 0, 0, 1, 0, 0, 1, 0, 1, 1, 1, 0, 0, 0, 0, 1, 0, 0, 0, 0, 0, 0,\n",
       "       0, 0, 0, 0, 0, 0, 0, 0, 0, 1, 0, 1, 0, 0, 0, 1, 1, 0, 0, 0, 0, 0,\n",
       "       0, 0, 0, 0, 0, 1, 1, 1, 0, 0, 0, 1, 0, 1, 1, 0, 0, 1, 1, 0, 0, 1,\n",
       "       0, 0, 0, 1, 0, 1, 0, 1, 0, 0, 1, 1, 1, 0, 0, 1, 1, 0, 0, 0, 1, 1,\n",
       "       0, 0, 1, 0, 0, 0, 0, 0, 0, 0, 1, 0, 0, 0, 1, 0, 0, 0, 1, 0, 0, 0,\n",
       "       1, 0, 1, 1, 1, 0, 0, 0, 1, 0, 0, 1, 1, 1, 0, 0, 1, 1, 0, 0, 0, 0,\n",
       "       0, 0, 1, 0, 1, 0, 0, 0, 0, 1, 0, 0, 0, 1, 0, 0, 1, 0, 0, 0, 0, 0,\n",
       "       0, 0, 1, 0, 1, 1, 0, 0, 0, 1, 0, 1, 0, 1, 0, 0, 0, 1, 1, 1, 0, 0,\n",
       "       0, 1, 1, 0, 0, 0, 0, 1, 1, 0, 0, 0, 0, 1, 0, 0, 0, 0, 1, 1, 1, 0,\n",
       "       1, 0, 0, 0, 1, 0, 0, 1, 0, 1, 0, 0, 1, 0, 1, 0, 0, 1, 0, 1, 0, 0,\n",
       "       0, 1, 0, 0, 0, 1, 0, 1, 1, 0, 0, 1, 0, 1, 0, 0, 1, 0, 1, 0, 0, 1,\n",
       "       0, 0, 0, 0, 0, 0, 0, 0, 0, 0, 0, 0, 0, 0, 0, 1, 0, 1, 1, 1, 1, 0,\n",
       "       0, 0, 0, 0, 0, 0, 0, 0, 0, 1, 1, 0, 0, 0, 1, 0, 0, 0, 1, 0, 0, 0,\n",
       "       0, 0, 1, 1, 0, 0, 1, 1, 0], dtype=int64)"
      ]
     },
     "execution_count": 54,
     "metadata": {},
     "output_type": "execute_result"
    }
   ],
   "source": [
    "y_pred"
   ]
  },
  {
   "cell_type": "code",
   "execution_count": 55,
   "metadata": {},
   "outputs": [
    {
     "data": {
      "text/plain": [
       "<matplotlib.axes._subplots.AxesSubplot at 0x1acbc6d0>"
      ]
     },
     "execution_count": 55,
     "metadata": {},
     "output_type": "execute_result"
    },
    {
     "data": {
      "image/png": "[encoded data removed]",
      "text/plain": [
       "<Figure size 432x288 with 1 Axes>"
      ]
     },
     "metadata": {
      "needs_background": "light"
     },
     "output_type": "display_data"
    }
   ],
   "source": [
    "pd.Series(y_predicted_prob[:, 1]).hist()"
   ]
  },
  {
   "cell_type": "code",
   "execution_count": 56,
   "metadata": {},
   "outputs": [],
   "source": [
    "y_pred = np.where(y_predicted_prob[:, 1] > 0.45, 1, 0)"
   ]
  },
  {
   "cell_type": "code",
   "execution_count": 57,
   "metadata": {},
   "outputs": [
    {
     "data": {
      "text/plain": [
       "array([0.13265306, 1.        , 0.40740741, 0.        , 0.64285714,\n",
       "       0.06756757, 0.34615385, 0.75      , 0.16666667, 0.66666667,\n",
       "       0.8       , 0.54545455, 0.375     , 0.85714286])"
      ]
     },
     "execution_count": 57,
     "metadata": {},
     "output_type": "execute_result"
    }
   ],
   "source": [
    "pd.Series(y_predicted_prob[:, 1]).unique()"
   ]
  },
  {
   "cell_type": "code",
   "execution_count": 58,
   "metadata": {},
   "outputs": [
    {
     "data": {
      "text/plain": [
       "0.7789473684210526"
      ]
     },
     "execution_count": 58,
     "metadata": {},
     "output_type": "execute_result"
    }
   ],
   "source": [
    "precision_score(y_test, y_pred)"
   ]
  },
  {
   "cell_type": "code",
   "execution_count": 59,
   "metadata": {},
   "outputs": [
    {
     "data": {
      "text/plain": [
       "0.6166666666666667"
      ]
     },
     "execution_count": 59,
     "metadata": {},
     "output_type": "execute_result"
    }
   ],
   "source": [
    "recall_score(y_test, y_pred)"
   ]
  },
  {
   "cell_type": "code",
   "execution_count": 60,
   "metadata": {},
   "outputs": [
    {
     "data": {
      "image/png": "[encoded data removed]",
      "text/plain": [
       "<Figure size 432x288 with 1 Axes>"
      ]
     },
     "metadata": {
      "needs_background": "light"
     },
     "output_type": "display_data"
    }
   ],
   "source": [
    "from sklearn.metrics import roc_curve, auc\n",
    "fpr, tpr, thresholds = roc_curve(y_test, y_predicted_prob[:,1])\n",
    "roc_auc= auc(fpr, tpr)\n",
    "plt.figure()\n",
    "plt.plot(fpr, tpr, color='darkorange',\n",
    "         label='ROC curve (area = %0.2f)' % roc_auc)\n",
    "plt.plot([0, 1], [0, 1], color='navy', linestyle='--')\n",
    "plt.xlim([0.0, 1.0])\n",
    "plt.ylim([0.0, 1.05])\n",
    "plt.xlabel('False Positive Rate')\n",
    "plt.ylabel('True Positive Rate')\n",
    "plt.title('Receiver operating characteristic example')\n",
    "plt.legend(loc=\"lower right\")\n",
    "plt.show()"
   ]
  },
  {
   "cell_type": "code",
   "execution_count": 61,
   "metadata": {},
   "outputs": [],
   "source": [
    "clf = tree.DecisionTreeClassifier(criterion='entropy', max_depth=3, min_samples_split=100, min_samples_leaf=10)"
   ]
  },
  {
   "cell_type": "code",
   "execution_count": 62,
   "metadata": {},
   "outputs": [
    {
     "data": {
      "text/plain": [
       "DecisionTreeClassifier(criterion='entropy', max_depth=3, min_samples_leaf=10,\n",
       "                       min_samples_split=100)"
      ]
     },
     "execution_count": 62,
     "metadata": {},
     "output_type": "execute_result"
    }
   ],
   "source": [
    "clf.fit(X_train, y_train)"
   ]
  },
  {
   "cell_type": "code",
   "execution_count": 63,
   "metadata": {},
   "outputs": [
    {
     "data": {
      "image/svg+xml": [
       "<svg xmlns=\"http://www.w3.org/2000/svg\" xmlns:xlink=\"http://www.w3.org/1999/xlink\" width=\"563pt\" height=\"433pt\" viewBox=\"0.00 0.00 563.00 433.00\">\n",
       "<g id=\"graph0\" class=\"graph\" transform=\"scale(1 1) rotate(0) translate(4 429)\">\n",
       "<title>Tree</title>\n",
       "<polygon fill=\"white\" stroke=\"none\" points=\"-4,4 -4,-429 559,-429 559,4 -4,4\"/>\n",
       "<!-- 0 -->\n",
       "<g id=\"node1\" class=\"node\"><title>0</title>\n",
       "<polygon fill=\"#f4ccaf\" stroke=\"black\" points=\"304,-425 186,-425 186,-342 304,-342 304,-425\"/>\n",
       "<text text-anchor=\"middle\" x=\"245\" y=\"-409.8\" font-family=\"Times New Roman,serif\" font-size=\"14.00\">Sex_male &lt;= 0.5</text>\n",
       "<text text-anchor=\"middle\" x=\"245\" y=\"-394.8\" font-family=\"Times New Roman,serif\" font-size=\"14.00\">entropy = 0.953</text>\n",
       "<text text-anchor=\"middle\" x=\"245\" y=\"-379.8\" font-family=\"Times New Roman,serif\" font-size=\"14.00\">samples = 596</text>\n",
       "<text text-anchor=\"middle\" x=\"245\" y=\"-364.8\" font-family=\"Times New Roman,serif\" font-size=\"14.00\">value = [374, 222]</text>\n",
       "<text text-anchor=\"middle\" x=\"245\" y=\"-349.8\" font-family=\"Times New Roman,serif\" font-size=\"14.00\">class = Died</text>\n",
       "</g>\n",
       "<!-- 1 -->\n",
       "<g id=\"node2\" class=\"node\"><title>1</title>\n",
       "<polygon fill=\"#85c2ef\" stroke=\"black\" points=\"236.5,-306 125.5,-306 125.5,-223 236.5,-223 236.5,-306\"/>\n",
       "<text text-anchor=\"middle\" x=\"181\" y=\"-290.8\" font-family=\"Times New Roman,serif\" font-size=\"14.00\">Pclass &lt;= 2.5</text>\n",
       "<text text-anchor=\"middle\" x=\"181\" y=\"-275.8\" font-family=\"Times New Roman,serif\" font-size=\"14.00\">entropy = 0.851</text>\n",
       "<text text-anchor=\"middle\" x=\"181\" y=\"-260.8\" font-family=\"Times New Roman,serif\" font-size=\"14.00\">samples = 206</text>\n",
       "<text text-anchor=\"middle\" x=\"181\" y=\"-245.8\" font-family=\"Times New Roman,serif\" font-size=\"14.00\">value = [57, 149]</text>\n",
       "<text text-anchor=\"middle\" x=\"181\" y=\"-230.8\" font-family=\"Times New Roman,serif\" font-size=\"14.00\">class = Survived</text>\n",
       "</g>\n",
       "<!-- 0&#45;&gt;1 -->\n",
       "<g id=\"edge1\" class=\"edge\"><title>0-&gt;1</title>\n",
       "<path fill=\"none\" stroke=\"black\" d=\"M222.796,-341.907C218.03,-333.195 212.944,-323.897 208.019,-314.893\"/>\n",
       "<polygon fill=\"black\" stroke=\"black\" points=\"211.035,-313.114 203.165,-306.021 204.894,-316.474 211.035,-313.114\"/>\n",
       "<text text-anchor=\"middle\" x=\"196.14\" y=\"-326.313\" font-family=\"Times New Roman,serif\" font-size=\"14.00\">True</text>\n",
       "</g>\n",
       "<!-- 6 -->\n",
       "<g id=\"node7\" class=\"node\"><title>6</title>\n",
       "<polygon fill=\"#eb9e67\" stroke=\"black\" points=\"365.5,-306 254.5,-306 254.5,-223 365.5,-223 365.5,-306\"/>\n",
       "<text text-anchor=\"middle\" x=\"310\" y=\"-290.8\" font-family=\"Times New Roman,serif\" font-size=\"14.00\">Age &lt;= 3.5</text>\n",
       "<text text-anchor=\"middle\" x=\"310\" y=\"-275.8\" font-family=\"Times New Roman,serif\" font-size=\"14.00\">entropy = 0.696</text>\n",
       "<text text-anchor=\"middle\" x=\"310\" y=\"-260.8\" font-family=\"Times New Roman,serif\" font-size=\"14.00\">samples = 390</text>\n",
       "<text text-anchor=\"middle\" x=\"310\" y=\"-245.8\" font-family=\"Times New Roman,serif\" font-size=\"14.00\">value = [317, 73]</text>\n",
       "<text text-anchor=\"middle\" x=\"310\" y=\"-230.8\" font-family=\"Times New Roman,serif\" font-size=\"14.00\">class = Died</text>\n",
       "</g>\n",
       "<!-- 0&#45;&gt;6 -->\n",
       "<g id=\"edge6\" class=\"edge\"><title>0-&gt;6</title>\n",
       "<path fill=\"none\" stroke=\"black\" d=\"M267.551,-341.907C272.391,-333.195 277.557,-323.897 282.559,-314.893\"/>\n",
       "<polygon fill=\"black\" stroke=\"black\" points=\"285.692,-316.462 287.488,-306.021 279.572,-313.063 285.692,-316.462\"/>\n",
       "<text text-anchor=\"middle\" x=\"294.356\" y=\"-326.359\" font-family=\"Times New Roman,serif\" font-size=\"14.00\">False</text>\n",
       "</g>\n",
       "<!-- 2 -->\n",
       "<g id=\"node3\" class=\"node\"><title>2</title>\n",
       "<polygon fill=\"#41a1e6\" stroke=\"black\" points=\"111,-187 1,-187 1,-104 111,-104 111,-187\"/>\n",
       "<text text-anchor=\"middle\" x=\"56\" y=\"-171.8\" font-family=\"Times New Roman,serif\" font-size=\"14.00\">Fare &lt;= 149.035</text>\n",
       "<text text-anchor=\"middle\" x=\"56\" y=\"-156.8\" font-family=\"Times New Roman,serif\" font-size=\"14.00\">entropy = 0.23</text>\n",
       "<text text-anchor=\"middle\" x=\"56\" y=\"-141.8\" font-family=\"Times New Roman,serif\" font-size=\"14.00\">samples = 107</text>\n",
       "<text text-anchor=\"middle\" x=\"56\" y=\"-126.8\" font-family=\"Times New Roman,serif\" font-size=\"14.00\">value = [4, 103]</text>\n",
       "<text text-anchor=\"middle\" x=\"56\" y=\"-111.8\" font-family=\"Times New Roman,serif\" font-size=\"14.00\">class = Survived</text>\n",
       "</g>\n",
       "<!-- 1&#45;&gt;2 -->\n",
       "<g id=\"edge2\" class=\"edge\"><title>1-&gt;2</title>\n",
       "<path fill=\"none\" stroke=\"black\" d=\"M137.632,-222.907C127.645,-213.56 116.938,-203.538 106.672,-193.929\"/>\n",
       "<polygon fill=\"black\" stroke=\"black\" points=\"108.984,-191.299 99.2915,-187.021 104.201,-196.41 108.984,-191.299\"/>\n",
       "</g>\n",
       "<!-- 5 -->\n",
       "<g id=\"node6\" class=\"node\"><title>5</title>\n",
       "<polygon fill=\"#fceee5\" stroke=\"black\" points=\"235,-179.5 129,-179.5 129,-111.5 235,-111.5 235,-179.5\"/>\n",
       "<text text-anchor=\"middle\" x=\"182\" y=\"-164.3\" font-family=\"Times New Roman,serif\" font-size=\"14.00\">entropy = 0.996</text>\n",
       "<text text-anchor=\"middle\" x=\"182\" y=\"-149.3\" font-family=\"Times New Roman,serif\" font-size=\"14.00\">samples = 99</text>\n",
       "<text text-anchor=\"middle\" x=\"182\" y=\"-134.3\" font-family=\"Times New Roman,serif\" font-size=\"14.00\">value = [53, 46]</text>\n",
       "<text text-anchor=\"middle\" x=\"182\" y=\"-119.3\" font-family=\"Times New Roman,serif\" font-size=\"14.00\">class = Died</text>\n",
       "</g>\n",
       "<!-- 1&#45;&gt;5 -->\n",
       "<g id=\"edge5\" class=\"edge\"><title>1-&gt;5</title>\n",
       "<path fill=\"none\" stroke=\"black\" d=\"M181.347,-222.907C181.438,-212.204 181.537,-200.615 181.63,-189.776\"/>\n",
       "<polygon fill=\"black\" stroke=\"black\" points=\"185.131,-189.697 181.717,-179.667 178.131,-189.637 185.131,-189.697\"/>\n",
       "</g>\n",
       "<!-- 3 -->\n",
       "<g id=\"node4\" class=\"node\"><title>3</title>\n",
       "<polygon fill=\"#3d9fe6\" stroke=\"black\" points=\"110,-68 0,-68 0,-0 110,-0 110,-68\"/>\n",
       "<text text-anchor=\"middle\" x=\"55\" y=\"-52.8\" font-family=\"Times New Roman,serif\" font-size=\"14.00\">entropy = 0.149</text>\n",
       "<text text-anchor=\"middle\" x=\"55\" y=\"-37.8\" font-family=\"Times New Roman,serif\" font-size=\"14.00\">samples = 94</text>\n",
       "<text text-anchor=\"middle\" x=\"55\" y=\"-22.8\" font-family=\"Times New Roman,serif\" font-size=\"14.00\">value = [2, 92]</text>\n",
       "<text text-anchor=\"middle\" x=\"55\" y=\"-7.8\" font-family=\"Times New Roman,serif\" font-size=\"14.00\">class = Survived</text>\n",
       "</g>\n",
       "<!-- 2&#45;&gt;3 -->\n",
       "<g id=\"edge3\" class=\"edge\"><title>2-&gt;3</title>\n",
       "<path fill=\"none\" stroke=\"black\" d=\"M55.6276,-103.726C55.5527,-95.5175 55.4736,-86.8595 55.3978,-78.56\"/>\n",
       "<polygon fill=\"black\" stroke=\"black\" points=\"58.8954,-78.2672 55.3041,-68.2996 51.8957,-78.3312 58.8954,-78.2672\"/>\n",
       "</g>\n",
       "<!-- 4 -->\n",
       "<g id=\"node5\" class=\"node\"><title>4</title>\n",
       "<polygon fill=\"#5dafea\" stroke=\"black\" points=\"238,-68 128,-68 128,-0 238,-0 238,-68\"/>\n",
       "<text text-anchor=\"middle\" x=\"183\" y=\"-52.8\" font-family=\"Times New Roman,serif\" font-size=\"14.00\">entropy = 0.619</text>\n",
       "<text text-anchor=\"middle\" x=\"183\" y=\"-37.8\" font-family=\"Times New Roman,serif\" font-size=\"14.00\">samples = 13</text>\n",
       "<text text-anchor=\"middle\" x=\"183\" y=\"-22.8\" font-family=\"Times New Roman,serif\" font-size=\"14.00\">value = [2, 11]</text>\n",
       "<text text-anchor=\"middle\" x=\"183\" y=\"-7.8\" font-family=\"Times New Roman,serif\" font-size=\"14.00\">class = Survived</text>\n",
       "</g>\n",
       "<!-- 2&#45;&gt;4 -->\n",
       "<g id=\"edge4\" class=\"edge\"><title>2-&gt;4</title>\n",
       "<path fill=\"none\" stroke=\"black\" d=\"M103.29,-103.726C114.186,-94.3318 125.764,-84.349 136.621,-74.9883\"/>\n",
       "<polygon fill=\"black\" stroke=\"black\" points=\"139.09,-77.4804 144.379,-68.2996 134.519,-72.1789 139.09,-77.4804\"/>\n",
       "</g>\n",
       "<!-- 7 -->\n",
       "<g id=\"node8\" class=\"node\"><title>7</title>\n",
       "<polygon fill=\"#74baed\" stroke=\"black\" points=\"364,-179.5 254,-179.5 254,-111.5 364,-111.5 364,-179.5\"/>\n",
       "<text text-anchor=\"middle\" x=\"309\" y=\"-164.3\" font-family=\"Times New Roman,serif\" font-size=\"14.00\">entropy = 0.779</text>\n",
       "<text text-anchor=\"middle\" x=\"309\" y=\"-149.3\" font-family=\"Times New Roman,serif\" font-size=\"14.00\">samples = 13</text>\n",
       "<text text-anchor=\"middle\" x=\"309\" y=\"-134.3\" font-family=\"Times New Roman,serif\" font-size=\"14.00\">value = [3, 10]</text>\n",
       "<text text-anchor=\"middle\" x=\"309\" y=\"-119.3\" font-family=\"Times New Roman,serif\" font-size=\"14.00\">class = Survived</text>\n",
       "</g>\n",
       "<!-- 6&#45;&gt;7 -->\n",
       "<g id=\"edge7\" class=\"edge\"><title>6-&gt;7</title>\n",
       "<path fill=\"none\" stroke=\"black\" d=\"M309.653,-222.907C309.562,-212.204 309.463,-200.615 309.37,-189.776\"/>\n",
       "<polygon fill=\"black\" stroke=\"black\" points=\"312.869,-189.637 309.283,-179.667 305.869,-189.697 312.869,-189.637\"/>\n",
       "</g>\n",
       "<!-- 8 -->\n",
       "<g id=\"node9\" class=\"node\"><title>8</title>\n",
       "<polygon fill=\"#ea9a61\" stroke=\"black\" points=\"493.5,-187 382.5,-187 382.5,-104 493.5,-104 493.5,-187\"/>\n",
       "<text text-anchor=\"middle\" x=\"438\" y=\"-171.8\" font-family=\"Times New Roman,serif\" font-size=\"14.00\">Fare &lt;= 52.277</text>\n",
       "<text text-anchor=\"middle\" x=\"438\" y=\"-156.8\" font-family=\"Times New Roman,serif\" font-size=\"14.00\">entropy = 0.651</text>\n",
       "<text text-anchor=\"middle\" x=\"438\" y=\"-141.8\" font-family=\"Times New Roman,serif\" font-size=\"14.00\">samples = 377</text>\n",
       "<text text-anchor=\"middle\" x=\"438\" y=\"-126.8\" font-family=\"Times New Roman,serif\" font-size=\"14.00\">value = [314, 63]</text>\n",
       "<text text-anchor=\"middle\" x=\"438\" y=\"-111.8\" font-family=\"Times New Roman,serif\" font-size=\"14.00\">class = Died</text>\n",
       "</g>\n",
       "<!-- 6&#45;&gt;8 -->\n",
       "<g id=\"edge8\" class=\"edge\"><title>6-&gt;8</title>\n",
       "<path fill=\"none\" stroke=\"black\" d=\"M354.409,-222.907C364.635,-213.56 375.6,-203.538 386.112,-193.929\"/>\n",
       "<polygon fill=\"black\" stroke=\"black\" points=\"388.65,-196.351 393.67,-187.021 383.927,-191.184 388.65,-196.351\"/>\n",
       "</g>\n",
       "<!-- 9 -->\n",
       "<g id=\"node10\" class=\"node\"><title>9</title>\n",
       "<polygon fill=\"#e99559\" stroke=\"black\" points=\"430.5,-68 319.5,-68 319.5,-0 430.5,-0 430.5,-68\"/>\n",
       "<text text-anchor=\"middle\" x=\"375\" y=\"-52.8\" font-family=\"Times New Roman,serif\" font-size=\"14.00\">entropy = 0.58</text>\n",
       "<text text-anchor=\"middle\" x=\"375\" y=\"-37.8\" font-family=\"Times New Roman,serif\" font-size=\"14.00\">samples = 332</text>\n",
       "<text text-anchor=\"middle\" x=\"375\" y=\"-22.8\" font-family=\"Times New Roman,serif\" font-size=\"14.00\">value = [286, 46]</text>\n",
       "<text text-anchor=\"middle\" x=\"375\" y=\"-7.8\" font-family=\"Times New Roman,serif\" font-size=\"14.00\">class = Died</text>\n",
       "</g>\n",
       "<!-- 8&#45;&gt;9 -->\n",
       "<g id=\"edge9\" class=\"edge\"><title>8-&gt;9</title>\n",
       "<path fill=\"none\" stroke=\"black\" d=\"M414.541,-103.726C409.556,-95.0615 404.283,-85.8962 399.268,-77.1802\"/>\n",
       "<polygon fill=\"black\" stroke=\"black\" points=\"402.179,-75.2219 394.159,-68.2996 396.112,-78.7128 402.179,-75.2219\"/>\n",
       "</g>\n",
       "<!-- 10 -->\n",
       "<g id=\"node11\" class=\"node\"><title>10</title>\n",
       "<polygon fill=\"#f5ceb1\" stroke=\"black\" points=\"555,-68 449,-68 449,-0 555,-0 555,-68\"/>\n",
       "<text text-anchor=\"middle\" x=\"502\" y=\"-52.8\" font-family=\"Times New Roman,serif\" font-size=\"14.00\">entropy = 0.956</text>\n",
       "<text text-anchor=\"middle\" x=\"502\" y=\"-37.8\" font-family=\"Times New Roman,serif\" font-size=\"14.00\">samples = 45</text>\n",
       "<text text-anchor=\"middle\" x=\"502\" y=\"-22.8\" font-family=\"Times New Roman,serif\" font-size=\"14.00\">value = [28, 17]</text>\n",
       "<text text-anchor=\"middle\" x=\"502\" y=\"-7.8\" font-family=\"Times New Roman,serif\" font-size=\"14.00\">class = Died</text>\n",
       "</g>\n",
       "<!-- 8&#45;&gt;10 -->\n",
       "<g id=\"edge10\" class=\"edge\"><title>8-&gt;10</title>\n",
       "<path fill=\"none\" stroke=\"black\" d=\"M461.831,-103.726C466.896,-95.0615 472.252,-85.8962 477.347,-77.1802\"/>\n",
       "<polygon fill=\"black\" stroke=\"black\" points=\"480.513,-78.6992 482.537,-68.2996 474.469,-75.167 480.513,-78.6992\"/>\n",
       "</g>\n",
       "</g>\n",
       "</svg>"
      ],
      "text/plain": [
       "<IPython.core.display.SVG object>"
      ]
     },
     "metadata": {},
     "output_type": "display_data"
    }
   ],
   "source": [
    "graph = Source(tree.export_graphviz(clf, out_file=None, feature_names=list(X),\n",
    "class_names=['Died', 'Survived'], filled=True))\n",
    "display(SVG(graph.pipe(format='svg')))"
   ]
  },
  {
   "cell_type": "code",
   "execution_count": 64,
   "metadata": {},
   "outputs": [],
   "source": [
    "from sklearn.ensemble import RandomForestClassifier"
   ]
  },
  {
   "cell_type": "code",
   "execution_count": 65,
   "metadata": {},
   "outputs": [],
   "source": [
    "clf_rf = RandomForestClassifier()"
   ]
  },
  {
   "cell_type": "code",
   "execution_count": 66,
   "metadata": {},
   "outputs": [],
   "source": [
    "parameters = {'n_estimators': [10, 20, 30], 'max_depth': [2, 5, 7, 10]}"
   ]
  },
  {
   "cell_type": "code",
   "execution_count": 67,
   "metadata": {},
   "outputs": [],
   "source": [
    "grid_search_cv_clf = GridSearchCV(clf_rf, parameters, cv=5)"
   ]
  },
  {
   "cell_type": "code",
   "execution_count": 68,
   "metadata": {},
   "outputs": [
    {
     "data": {
      "text/plain": [
       "GridSearchCV(cv=5, estimator=RandomForestClassifier(),\n",
       "             param_grid={'max_depth': [2, 5, 7, 10],\n",
       "                         'n_estimators': [10, 20, 30]})"
      ]
     },
     "execution_count": 68,
     "metadata": {},
     "output_type": "execute_result"
    }
   ],
   "source": [
    "grid_search_cv_clf.fit(X_train, y_train)"
   ]
  },
  {
   "cell_type": "code",
   "execution_count": 69,
   "metadata": {},
   "outputs": [
    {
     "data": {
      "text/plain": [
       "{'max_depth': 10, 'n_estimators': 20}"
      ]
     },
     "execution_count": 69,
     "metadata": {},
     "output_type": "execute_result"
    }
   ],
   "source": [
    "grid_search_cv_clf.best_params_"
   ]
  },
  {
   "cell_type": "code",
   "execution_count": 70,
   "metadata": {},
   "outputs": [],
   "source": [
    "feature_importances = best_clf.feature_importances_"
   ]
  },
  {
   "cell_type": "code",
   "execution_count": 71,
   "metadata": {},
   "outputs": [],
   "source": [
    "feature_importances_df = pd.DataFrame({'feature': list(X_train),\n",
    "                                       'feature_importances': feature_importances})"
   ]
  },
  {
   "cell_type": "code",
   "execution_count": 72,
   "metadata": {},
   "outputs": [
    {
     "data": {
      "text/html": [
       "<div>\n",
       "<style scoped>\n",
       "    .dataframe tbody tr th:only-of-type {\n",
       "        vertical-align: middle;\n",
       "    }\n",
       "\n",
       "    .dataframe tbody tr th {\n",
       "        vertical-align: top;\n",
       "    }\n",
       "\n",
       "    .dataframe thead th {\n",
       "        text-align: right;\n",
       "    }\n",
       "</style>\n",
       "<table border=\"1\" class=\"dataframe\">\n",
       "  <thead>\n",
       "    <tr style=\"text-align: right;\">\n",
       "      <th></th>\n",
       "      <th>feature</th>\n",
       "      <th>feature_importances</th>\n",
       "    </tr>\n",
       "  </thead>\n",
       "  <tbody>\n",
       "    <tr>\n",
       "      <th>5</th>\n",
       "      <td>Sex_female</td>\n",
       "      <td>0.370019</td>\n",
       "    </tr>\n",
       "    <tr>\n",
       "      <th>1</th>\n",
       "      <td>Age</td>\n",
       "      <td>0.183717</td>\n",
       "    </tr>\n",
       "    <tr>\n",
       "      <th>0</th>\n",
       "      <td>Pclass</td>\n",
       "      <td>0.176055</td>\n",
       "    </tr>\n",
       "    <tr>\n",
       "      <th>4</th>\n",
       "      <td>Fare</td>\n",
       "      <td>0.171110</td>\n",
       "    </tr>\n",
       "    <tr>\n",
       "      <th>2</th>\n",
       "      <td>SibSp</td>\n",
       "      <td>0.058635</td>\n",
       "    </tr>\n",
       "    <tr>\n",
       "      <th>9</th>\n",
       "      <td>Embarked_S</td>\n",
       "      <td>0.029884</td>\n",
       "    </tr>\n",
       "    <tr>\n",
       "      <th>8</th>\n",
       "      <td>Embarked_Q</td>\n",
       "      <td>0.010580</td>\n",
       "    </tr>\n",
       "    <tr>\n",
       "      <th>3</th>\n",
       "      <td>Parch</td>\n",
       "      <td>0.000000</td>\n",
       "    </tr>\n",
       "    <tr>\n",
       "      <th>6</th>\n",
       "      <td>Sex_male</td>\n",
       "      <td>0.000000</td>\n",
       "    </tr>\n",
       "    <tr>\n",
       "      <th>7</th>\n",
       "      <td>Embarked_C</td>\n",
       "      <td>0.000000</td>\n",
       "    </tr>\n",
       "  </tbody>\n",
       "</table>\n",
       "</div>"
      ],
      "text/plain": [
       "      feature  feature_importances\n",
       "5  Sex_female             0.370019\n",
       "1         Age             0.183717\n",
       "0      Pclass             0.176055\n",
       "4        Fare             0.171110\n",
       "2       SibSp             0.058635\n",
       "9  Embarked_S             0.029884\n",
       "8  Embarked_Q             0.010580\n",
       "3       Parch             0.000000\n",
       "6    Sex_male             0.000000\n",
       "7  Embarked_C             0.000000"
      ]
     },
     "execution_count": 72,
     "metadata": {},
     "output_type": "execute_result"
    }
   ],
   "source": [
    "feature_importances_df.sort_values('feature_importances', ascending=False)"
   ]
  },
  {
   "cell_type": "code",
   "execution_count": 73,
   "metadata": {},
   "outputs": [
    {
     "data": {
      "image/png": "[encoded data removed]",
      "text/plain": [
       "<Figure size 576x576 with 1 Axes>"
      ]
     },
     "metadata": {},
     "output_type": "display_data"
    }
   ],
   "source": [
    "feature_importances_df.plot.pie(\n",
    "                        explode=[0.1]*len(X_train.columns),\n",
    "                        labels = feature_importances_df.feature,\n",
    "                        y = 'feature_importances',\n",
    "                        autopct='%1.1f%%',\n",
    "                        shadow=True,\n",
    "                        legend=False,\n",
    "                        figsize=(8, 8));"
   ]
  }
 ],
 "metadata": {
  "kernelspec": {
   "display_name": "Python 3",
   "language": "python",
   "name": "python3"
  },
  "language_info": {
   "codemirror_mode": {
    "name": "ipython",
    "version": 3
   },
   "file_extension": ".py",
   "mimetype": "text/x-python",
   "name": "python",
   "nbconvert_exporter": "python",
   "pygments_lexer": "ipython3",
   "version": "3.8.2"
  }
 },
 "nbformat": 4,
 "nbformat_minor": 4
}
